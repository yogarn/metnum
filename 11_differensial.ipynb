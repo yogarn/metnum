{
 "cells": [
  {
   "cell_type": "markdown",
   "metadata": {},
   "source": [
    "## Differensial Numerik"
   ]
  },
  {
   "cell_type": "markdown",
   "metadata": {},
   "source": [
    "## Rumus 2 Titik"
   ]
  },
  {
   "cell_type": "code",
   "execution_count": 1,
   "metadata": {},
   "outputs": [],
   "source": [
    "def forward_difference(f, x, h):\n",
    "    return (f(x+h) - f(x)) / h"
   ]
  },
  {
   "cell_type": "code",
   "execution_count": 2,
   "metadata": {},
   "outputs": [],
   "source": [
    "def backward_difference(f, x, h):\n",
    "    return (f(x) - f(x-h)) / h"
   ]
  },
  {
   "cell_type": "markdown",
   "metadata": {},
   "source": [
    "## Rumus 3 Titik"
   ]
  },
  {
   "cell_type": "code",
   "execution_count": 3,
   "metadata": {},
   "outputs": [],
   "source": [
    "def central_difference(f, x, h):\n",
    "    return (f(x+h) - f(x-h)) / (2*h)"
   ]
  },
  {
   "cell_type": "markdown",
   "metadata": {},
   "source": [
    "## Rumus 5 Titik"
   ]
  },
  {
   "cell_type": "code",
   "execution_count": 4,
   "metadata": {},
   "outputs": [],
   "source": [
    "def five_point_difference(f, x, h):\n",
    "    return (-f(x+2*h) + 8*f(x+h) - 8*f(x-h) + f(x-2*h)) / (12*h)"
   ]
  },
  {
   "cell_type": "markdown",
   "metadata": {},
   "source": [
    "## Turunan Kedua"
   ]
  },
  {
   "cell_type": "code",
   "execution_count": 5,
   "metadata": {},
   "outputs": [],
   "source": [
    "def second_derivative(f, x, h):\n",
    "    return (f(x+h) - 2*f(x) + f(x-h)) / h**2"
   ]
  },
  {
   "cell_type": "markdown",
   "metadata": {},
   "source": [
    "## Richardson Extrapolation"
   ]
  },
  {
   "cell_type": "code",
   "execution_count": 34,
   "metadata": {},
   "outputs": [],
   "source": [
    "def richardson_extrapolation(f, x, h):\n",
    "    return (8 * f(x + h) - 8 * f(x - h) - (f(x + 2 * h) - f(x - 2 * h))) / (12 * h)\n"
   ]
  },
  {
   "cell_type": "markdown",
   "metadata": {},
   "source": [
    "## Latihan"
   ]
  },
  {
   "cell_type": "code",
   "execution_count": 38,
   "metadata": {},
   "outputs": [
    {
     "name": "stdout",
     "output_type": "stream",
     "text": [
      "h = 10^(-0)\n",
      "Forward difference:  1.2000000000000002\n",
      "Backward difference:  0.19999999999999996\n",
      "Central difference:  0.7000000000000001\n",
      "Five point difference:  0.5\n",
      "Richardson extrapolation:  0.5\n",
      "Second derivative:  1.0000000000000002\n",
      "\n",
      "h = 10^(-1)\n",
      "Forward difference:  0.5421000000000009\n",
      "Backward difference:  0.46189999999999953\n",
      "Central difference:  0.5020000000000002\n",
      "Five point difference:  0.49999999999999983\n",
      "Richardson extrapolation:  0.5000000000000002\n",
      "Second derivative:  0.8020000000000137\n",
      "\n",
      "h = 10^(-2)\n",
      "Forward difference:  0.5040200999999911\n",
      "Backward difference:  0.49601989999999985\n",
      "Central difference:  0.5000199999999955\n",
      "Five point difference:  0.49999999999999767\n",
      "Richardson extrapolation:  0.499999999999994\n",
      "Second derivative:  0.8000199999991242\n",
      "\n",
      "h = 10^(-3)\n",
      "Forward difference:  0.500400200099893\n",
      "Backward difference:  0.4996001999000299\n",
      "Central difference:  0.5000001999999615\n",
      "Five point difference:  0.49999999999993566\n",
      "Richardson extrapolation:  0.49999999999995415\n",
      "Second derivative:  0.800000199863149\n",
      "\n",
      "h = 10^(-4)\n",
      "Forward difference:  0.5000400020005458\n",
      "Backward difference:  0.49996000199947765\n",
      "Central difference:  0.5000000020000117\n",
      "Five point difference:  0.500000000000315\n",
      "Richardson extrapolation:  0.4999999999999449\n",
      "Second derivative:  0.8000000106811456\n",
      "\n"
     ]
    }
   ],
   "source": [
    "for i in range (0, 5):\n",
    "    h = 10**(-i)\n",
    "    print(\"h = 10^(-\" + str(i) + \")\")\n",
    "    print(\"Forward difference: \", forward_difference(lambda x: 0.1*x**4 + 0.2*x**3 + 0.4*x**2 + 0.5*x + 1, 0, h))\n",
    "    print(\"Backward difference: \", backward_difference(lambda x: 0.1*x**4 + 0.2*x**3 + 0.4*x**2 + 0.5*x + 1, 0, h))\n",
    "    print(\"Central difference: \", central_difference(lambda x: 0.1*x**4 + 0.2*x**3 + 0.4*x**2 + 0.5*x + 1, 0, h))\n",
    "    print(\"Five point difference: \", five_point_difference(lambda x: 0.1*x**4 + 0.2*x**3 + 0.4*x**2 + 0.5*x + 1, 0, h))\n",
    "    print(\"Richardson extrapolation: \", richardson_extrapolation(lambda x: 0.1*x**4 + 0.2*x**3 + 0.4*x**2 + 0.5*x + 1, 0, h))\n",
    "    print(\"Second derivative: \", second_derivative(lambda x: 0.1*x**4 + 0.2*x**3 + 0.4*x**2 + 0.5*x + 1, 0, h))\n",
    "    print()"
   ]
  },
  {
   "cell_type": "code",
   "execution_count": 39,
   "metadata": {},
   "outputs": [
    {
     "name": "stdout",
     "output_type": "stream",
     "text": [
      "x = 0, h = 10^-k, k = 0\n",
      "Forward difference:  124.5\n",
      "Backward difference:  -83.5\n",
      "Central difference:  20.5\n",
      "Five point difference:  0.5\n",
      "Richardson extrapolation:  0.5\n",
      "Second derivative:  20.8\n",
      "\n"
     ]
    }
   ],
   "source": [
    "h = 10^0\n",
    "\n",
    "print(\"x = 0, h = 10^-k, k = 0\")\n",
    "print(\"Forward difference: \", forward_difference(lambda x: 0.1*x**4 + 0.2*x**3 + 0.4*x**2 + 0.5*x + 1, 0, h))\n",
    "print(\"Backward difference: \", backward_difference(lambda x: 0.1*x**4 + 0.2*x**3 + 0.4*x**2 + 0.5*x + 1, 0, h))\n",
    "print(\"Central difference: \", central_difference(lambda x: 0.1*x**4 + 0.2*x**3 + 0.4*x**2 + 0.5*x + 1, 0, h))\n",
    "print(\"Five point difference: \", five_point_difference(lambda x: 0.1*x**4 + 0.2*x**3 + 0.4*x**2 + 0.5*x + 1, 0, h))\n",
    "print(\"Richardson extrapolation: \", richardson_extrapolation(lambda x: 0.1*x**4 + 0.2*x**3 + 0.4*x**2 + 0.5*x + 1, 0, h))\n",
    "print(\"Second derivative: \", second_derivative(lambda x: 0.1*x**4 + 0.2*x**3 + 0.4*x**2 + 0.5*x + 1, 0, h))\n",
    "print()"
   ]
  }
 ],
 "metadata": {
  "kernelspec": {
   "display_name": "Python 3",
   "language": "python",
   "name": "python3"
  },
  "language_info": {
   "codemirror_mode": {
    "name": "ipython",
    "version": 3
   },
   "file_extension": ".py",
   "mimetype": "text/x-python",
   "name": "python",
   "nbconvert_exporter": "python",
   "pygments_lexer": "ipython3",
   "version": "3.12.3"
  }
 },
 "nbformat": 4,
 "nbformat_minor": 2
}
