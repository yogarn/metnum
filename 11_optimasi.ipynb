{
 "cells": [
  {
   "cell_type": "markdown",
   "metadata": {},
   "source": [
    "# Optimasi"
   ]
  },
  {
   "cell_type": "markdown",
   "metadata": {},
   "source": [
    "Optimasi itu adalah dimana kita mencari nilai maksimum atau minimum dari sebuah fungsi. Fungsi bisa dari yang paling sederhana (polinomial) hingga yang multivariable. Optimasi semakin penting ketika proses deep learning, sehingga dia bisa membuat model seperti gpt, gemini, dan sebagainya. Itu dasarnya adalah proses optimasi, dimana ia meminimalisir error yang ada."
   ]
  },
  {
   "cell_type": "markdown",
   "metadata": {},
   "source": [
    "Ada dua hal penting yaitu fungsi dan kendala."
   ]
  },
  {
   "cell_type": "markdown",
   "metadata": {},
   "source": [
    "Secara analitik, nilai maks atau min dari persamaan dapat diperoleh pada harga x yang memenuhi:\n",
    "\\begin{align*}\n",
    "y' = f'(x) = \\frac{dy}{dx} = \\frac{df}{dx} = 0\n",
    "\\end{align*}"
   ]
  },
  {
   "cell_type": "markdown",
   "metadata": {},
   "source": [
    "Tidak semua fungsi memiliki turunan yang mudah diturunkan. Ada kalanya problem yang dihadapi tidak memiliki fungsi yang jelas, sehingga perlu pendekatan numerik."
   ]
  },
  {
   "cell_type": "markdown",
   "metadata": {},
   "source": [
    "Terdapat local maximum dan global maximum, keduanya punya turunan 0. Sehingga terdapat problem umum dimana beberapa algoritma hanya berhenti di local, padahal kita ingin cari yang global."
   ]
  },
  {
   "cell_type": "markdown",
   "metadata": {},
   "source": [
    "## Metode Golden Section Search"
   ]
  },
  {
   "cell_type": "markdown",
   "metadata": {},
   "source": [
    "Metode untuk fungsi yan gbersifet unimodal, i.e., satu variabel. Punya pendekatan yang mirip dengan bisection untuk menentukan root persamaan non-linear. Jadi akan dibagi dua, lalu di test dan diambil nilai baru berdasarkan hasilnya. Dilakukan secara rekursif. Namun, di GSS tidak dibagi dua, melainkan dibagi dengan **golden ratio**."
   ]
  },
  {
   "cell_type": "markdown",
   "metadata": {},
   "source": [
    "\\begin{align*}\n",
    "R = \\frac{\\sqrt{5} - 1}{2} \\approx 0,61803\n",
    "\\end{align*}"
   ]
  },
  {
   "cell_type": "markdown",
   "metadata": {},
   "source": [
    "Mulai dari 2 nilai tebakan awal, yaitu xl dan xu yang mengapit titik maksimum. Kemudian tentukan nilai x1 dan x2 dalam rentang tersebut sesuai dengan golden ratio. x1 = xl + d dan x2 = xu -d, dimana d merupakan golden ratio."
   ]
  },
  {
   "cell_type": "markdown",
   "metadata": {},
   "source": [
    "\\begin{align*}\n",
    "d &= 0,61803(x_u-x_l)\\\\\n",
    "x_1 &= x_l + d\\\\\n",
    "x_2 &= x_u - d\\\\\n",
    "\\end{align*}"
   ]
  },
  {
   "cell_type": "markdown",
   "metadata": {},
   "source": [
    "Jika $f(x_1) < f(x_2) \\rightarrow xl = x_2$  \n",
    "Jika $f(x_2) < f(x_1) \\rightarrow xu = x_1$"
   ]
  },
  {
   "cell_type": "markdown",
   "metadata": {},
   "source": [
    "Akan berhenti jika $x_l = x_u$"
   ]
  },
  {
   "cell_type": "code",
   "execution_count": 46,
   "metadata": {},
   "outputs": [],
   "source": [
    "def golden_section_search(f, xl, xu, tol=1e-5):\n",
    "    \"\"\"\n",
    "    Golden section search to find the minimum of f on [a, b].\n",
    "    \"\"\"\n",
    "    print(\"i\\txl\\txu\\td\\tx1\\tx2\\tf(x1)\\tf(x2)\\te\")\n",
    "    golden_ratio = (5 ** 0.5 - 1) / 2\n",
    "    d = golden_ratio * (xu - xl)\n",
    "    x1 = xl + d\n",
    "    x2 = xu - d\n",
    "    i = 1\n",
    "    while xu - xl > tol:\n",
    "        print(i, round(xl, 3), round(xu, 3), round(d, 3), round(x1, 3), round(x2, 3), round(f(x1), 3), round(f(x2), 3), round(xu - xl, 3), sep=\"\\t\")\n",
    "        i += 1\n",
    "        if f(x1) < f(x2):\n",
    "            xl = x2\n",
    "        else:\n",
    "            xu = x1\n",
    "        d = golden_ratio * (xu - xl)\n",
    "        x1 = xl + d\n",
    "        x2 = xu - d\n",
    "    return (xl + xu) / 2"
   ]
  },
  {
   "cell_type": "code",
   "execution_count": 47,
   "metadata": {},
   "outputs": [
    {
     "name": "stdout",
     "output_type": "stream",
     "text": [
      "i\txl\txu\td\tx1\tx2\tf(x1)\tf(x2)\te\n",
      "1\t-3\t2\t3.09\t0.09\t-1.09\t0.828\t4.369\t5\n",
      "2\t-1.09\t2\t1.91\t0.82\t0.09\t0.033\t0.828\t3.09\n",
      "3\t0.09\t2\t1.18\t1.271\t0.82\t0.073\t0.033\t1.91\n",
      "4\t0.09\t1.271\t0.729\t0.82\t0.541\t0.033\t0.211\t1.18\n",
      "5\t0.541\t1.271\t0.451\t0.992\t0.82\t0.0\t0.033\t0.729\n",
      "6\t0.82\t1.271\t0.279\t1.098\t0.992\t0.01\t0.0\t0.451\n",
      "7\t0.82\t1.098\t0.172\t0.992\t0.926\t0.0\t0.005\t0.279\n",
      "8\t0.926\t1.098\t0.106\t1.033\t0.992\t0.001\t0.0\t0.172\n",
      "9\t0.926\t1.033\t0.066\t0.992\t0.967\t0.0\t0.001\t0.106\n",
      "10\t0.967\t1.033\t0.041\t1.007\t0.992\t0.0\t0.0\t0.066\n",
      "11\t0.992\t1.033\t0.025\t1.017\t1.007\t0.0\t0.0\t0.041\n",
      "12\t0.992\t1.017\t0.016\t1.007\t1.001\t0.0\t0.0\t0.025\n",
      "13\t0.992\t1.007\t0.01\t1.001\t0.998\t0.0\t0.0\t0.016\n",
      "14\t0.998\t1.007\t0.006\t1.004\t1.001\t0.0\t0.0\t0.01\n",
      "15\t0.998\t1.004\t0.004\t1.001\t1.0\t0.0\t0.0\t0.006\n",
      "16\t0.998\t1.001\t0.002\t1.0\t0.999\t0.0\t0.0\t0.004\n",
      "17\t0.999\t1.001\t0.001\t1.001\t1.0\t0.0\t0.0\t0.002\n",
      "18\t0.999\t1.001\t0.001\t1.0\t1.0\t0.0\t0.0\t0.001\n",
      "19\t1.0\t1.001\t0.001\t1.0\t1.0\t0.0\t0.0\t0.001\n",
      "20\t1.0\t1.0\t0.0\t1.0\t1.0\t0.0\t0.0\t0.001\n",
      "21\t1.0\t1.0\t0.0\t1.0\t1.0\t0.0\t0.0\t0.0\n",
      "22\t1.0\t1.0\t0.0\t1.0\t1.0\t0.0\t0.0\t0.0\n",
      "23\t1.0\t1.0\t0.0\t1.0\t1.0\t0.0\t0.0\t0.0\n",
      "24\t1.0\t1.0\t0.0\t1.0\t1.0\t0.0\t0.0\t0.0\n",
      "25\t1.0\t1.0\t0.0\t1.0\t1.0\t0.0\t0.0\t0.0\n",
      "26\t1.0\t1.0\t0.0\t1.0\t1.0\t0.0\t0.0\t0.0\n",
      "27\t1.0\t1.0\t0.0\t1.0\t1.0\t0.0\t0.0\t0.0\n",
      "28\t1.0\t1.0\t0.0\t1.0\t1.0\t0.0\t0.0\t0.0\n"
     ]
    },
    {
     "data": {
      "text/plain": [
       "0.9999986320410061"
      ]
     },
     "execution_count": 47,
     "metadata": {},
     "output_type": "execute_result"
    }
   ],
   "source": [
    "import numpy as np\n",
    "golden_section_search(lambda x: x**2 - 2*x + 1, -3, 2, 10e-6)"
   ]
  },
  {
   "cell_type": "markdown",
   "metadata": {},
   "source": [
    "## Metode Newton"
   ]
  },
  {
   "cell_type": "markdown",
   "metadata": {},
   "source": [
    "Pendekatannya sama dengan metode newton dalam root persamaan non linear. Pada kondisi optimum berlaku:\n",
    "- f'(x*) = g'(x*)\n",
    "- x* : nilai optimum\n",
    "\n",
    "Maka nilai x* dapat diperloleh secara iteratif sebagai berikut.\n",
    "\\begin{align*}\n",
    "x_{i+1} = x_i - \\frac{f'(x_i)}{f''(x_i)}\n",
    "\\end{align*}"
   ]
  },
  {
   "cell_type": "code",
   "execution_count": 14,
   "metadata": {},
   "outputs": [],
   "source": [
    "def newton_maximum_search(f, x0, fd, sd, tol=1e-5):\n",
    "    print(\"i\\tx0\\tf(x0)\\tfd(x0)\\tsd(x0)\\te\")\n",
    "    i = 1\n",
    "    e = x0\n",
    "    print(i, round(x0, 3), round(f(x0), 3), round(fd(x0), 3), round(sd(x0), 3), round(e, 3), sep=\"\\t\")\n",
    "    while e > tol:\n",
    "        xn = x0 - fd(x0) / sd(x0)\n",
    "        e = abs(x0 - xn)\n",
    "        x0 = xn\n",
    "        i += 1\n",
    "        print(i, round(x0, 3), round(f(x0), 3), round(fd(x0), 3), round(sd(x0), 3), round(e, 3), sep=\"\\t\")\n",
    "    return x0"
   ]
  },
  {
   "cell_type": "code",
   "execution_count": 15,
   "metadata": {},
   "outputs": [
    {
     "name": "stdout",
     "output_type": "stream",
     "text": [
      "i\tx0\tf(x0)\tfd(x0)\tsd(x0)\te\n",
      "1\t2.5\t2.25\t3.0\t2\t2.5\n",
      "2\t1.0\t0.0\t0.0\t2\t1.5\n",
      "3\t1.0\t0.0\t0.0\t2\t0.0\n"
     ]
    },
    {
     "data": {
      "text/plain": [
       "1.0"
      ]
     },
     "execution_count": 15,
     "metadata": {},
     "output_type": "execute_result"
    }
   ],
   "source": [
    "newton_maximum_search(lambda x: x**2 - 2*x + 1, 2.5, lambda x: 2*x - 2, lambda x: 2, 0)"
   ]
  },
  {
   "cell_type": "markdown",
   "metadata": {},
   "source": [
    "## Quadratic Interpolation"
   ]
  },
  {
   "cell_type": "code",
   "execution_count": 100,
   "metadata": {},
   "outputs": [],
   "source": [
    "def quadratic_interpolation(f, x0, x1, x2, tol=1e-5):\n",
    "    print(\"i\\tx0\\tx1\\tx2\\tx3\\tf(x0)\\tf(x1)\\tf(x2)\\tf(x3)\\te\")\n",
    "    i = 1\n",
    "    e = abs(f(x0))\n",
    "    x3 = x0\n",
    "    while e > tol:\n",
    "        x3 = (f(x0) * x1 * x2) / ((x0 - x1) * (x0 - x2)) + (f(x1) * x0 * x2) / ((x1 - x0) * (x1 - x2)) + (f(x2) * x0 * x1) / ((x2 - x0) * (x2 - x1))\n",
    "        print(i, round(x0, 3), round(x1, 3), round(x2, 3), round(x3, 3), round(f(x0), 3), round(f(x1), 3), round(f(x2), 3), round(f(x3), 3), round(e, 3), sep=\"\\t\")\n",
    "        if x3 < x0:\n",
    "            x2 = x0\n",
    "            x0 = x3\n",
    "        elif x3 < x1:\n",
    "            x0 = x1\n",
    "            x1 = x3\n",
    "        else:\n",
    "            x0 = x2\n",
    "            x2 = x3\n",
    "        e = abs(f(x3))\n",
    "        i += 1\n",
    "    return x3"
   ]
  },
  {
   "cell_type": "code",
   "execution_count": 101,
   "metadata": {},
   "outputs": [
    {
     "name": "stdout",
     "output_type": "stream",
     "text": [
      "i\tx0\tx1\tx2\tx3\tf(x0)\tf(x1)\tf(x2)\tf(x3)\te\n",
      "1\t-10\t10\t14\t1.0\t121\t81\t169\t0.0\t121\n"
     ]
    },
    {
     "data": {
      "text/plain": [
       "1.0"
      ]
     },
     "execution_count": 101,
     "metadata": {},
     "output_type": "execute_result"
    }
   ],
   "source": [
    "quadratic_interpolation(lambda x: x**2 - 2*x + 1, -10, 10, 14)"
   ]
  },
  {
   "cell_type": "markdown",
   "metadata": {},
   "source": [
    "## Steepest Ascent/Descent"
   ]
  },
  {
   "cell_type": "markdown",
   "metadata": {},
   "source": [
    "### Gradient Descent"
   ]
  },
  {
   "cell_type": "markdown",
   "metadata": {},
   "source": [
    "1. Asumsikan kita tidak tahu nilai optimum\n",
    "2. Tentukan x0 secara random\n",
    "3. Turunkan fungsi \n",
    "4. Substitusi x0 ke fungsi turunan\n",
    "\n",
    "Jika f'(x) > 0, maka tentu berada di sebelah kanan, maka harus bergerak ke kiri.  \n",
    "Jika f'(x) < 0, maka tentu berada di sebelah kiri, maka harus bergerak ke kanan."
   ]
  },
  {
   "cell_type": "markdown",
   "metadata": {},
   "source": [
    "\\begin{align*}\n",
    "x_{i+1} = x_i - \\alpha f'(x_i)\n",
    "\\end{align*}\n",
    "\n",
    "$\\alpha$ merupakan step. Semakin besar semakin cpeat, tapi tidak teliti. Semakin kecil semakin lama, tetapi teliti."
   ]
  },
  {
   "cell_type": "code",
   "execution_count": 1,
   "metadata": {},
   "outputs": [],
   "source": [
    "def steepest_gradient_descent(f, x0, fd, step=0.1, tol=1e-5):\n",
    "    print(\"i\\tx0\\tf(x0)\\tfd(x0)\")\n",
    "    i = 1\n",
    "    e = f(x0)\n",
    "    while e > tol:\n",
    "        print(i, round(x0, 3), round(f(x0), 3), round(fd(x0), 3), sep=\"\\t\")\n",
    "        x0 = x0 - step * fd(x0)\n",
    "        e = abs(fd(x0))\n",
    "        i += 1\n",
    "    return x0"
   ]
  },
  {
   "cell_type": "code",
   "execution_count": 2,
   "metadata": {},
   "outputs": [
    {
     "name": "stdout",
     "output_type": "stream",
     "text": [
      "i\tx0\tf(x0)\tfd(x0)\n",
      "1\t3\t4\t4\n",
      "2\t2.6\t2.56\t3.2\n",
      "3\t2.28\t1.638\t2.56\n",
      "4\t2.024\t1.049\t2.048\n",
      "5\t1.819\t0.671\t1.638\n",
      "6\t1.655\t0.429\t1.311\n",
      "7\t1.524\t0.275\t1.049\n",
      "8\t1.419\t0.176\t0.839\n",
      "9\t1.336\t0.113\t0.671\n",
      "10\t1.268\t0.072\t0.537\n",
      "11\t1.215\t0.046\t0.429\n",
      "12\t1.172\t0.03\t0.344\n",
      "13\t1.137\t0.019\t0.275\n",
      "14\t1.11\t0.012\t0.22\n",
      "15\t1.088\t0.008\t0.176\n",
      "16\t1.07\t0.005\t0.141\n",
      "17\t1.056\t0.003\t0.113\n",
      "18\t1.045\t0.002\t0.09\n",
      "19\t1.036\t0.001\t0.072\n",
      "20\t1.029\t0.001\t0.058\n",
      "21\t1.023\t0.001\t0.046\n",
      "22\t1.018\t0.0\t0.037\n",
      "23\t1.015\t0.0\t0.03\n",
      "24\t1.012\t0.0\t0.024\n",
      "25\t1.009\t0.0\t0.019\n",
      "26\t1.008\t0.0\t0.015\n",
      "27\t1.006\t0.0\t0.012\n",
      "28\t1.005\t0.0\t0.01\n",
      "29\t1.004\t0.0\t0.008\n",
      "30\t1.003\t0.0\t0.006\n",
      "31\t1.002\t0.0\t0.005\n",
      "32\t1.002\t0.0\t0.004\n",
      "33\t1.002\t0.0\t0.003\n",
      "34\t1.001\t0.0\t0.003\n",
      "35\t1.001\t0.0\t0.002\n",
      "36\t1.001\t0.0\t0.002\n",
      "37\t1.001\t0.0\t0.001\n",
      "38\t1.001\t0.0\t0.001\n",
      "39\t1.0\t0.0\t0.001\n",
      "40\t1.0\t0.0\t0.001\n",
      "41\t1.0\t0.0\t0.001\n",
      "42\t1.0\t0.0\t0.0\n",
      "43\t1.0\t0.0\t0.0\n",
      "44\t1.0\t0.0\t0.0\n",
      "45\t1.0\t0.0\t0.0\n",
      "46\t1.0\t0.0\t0.0\n",
      "47\t1.0\t0.0\t0.0\n",
      "48\t1.0\t0.0\t0.0\n",
      "49\t1.0\t0.0\t0.0\n",
      "50\t1.0\t0.0\t0.0\n",
      "51\t1.0\t0.0\t0.0\n",
      "52\t1.0\t0.0\t0.0\n",
      "53\t1.0\t0.0\t0.0\n",
      "54\t1.0\t0.0\t0.0\n",
      "55\t1.0\t0.0\t0.0\n",
      "56\t1.0\t0.0\t0.0\n",
      "57\t1.0\t0.0\t0.0\n",
      "58\t1.0\t0.0\t0.0\n"
     ]
    },
    {
     "data": {
      "text/plain": [
       "1.0000047890485653"
      ]
     },
     "execution_count": 2,
     "metadata": {},
     "output_type": "execute_result"
    }
   ],
   "source": [
    "steepest_gradient_descent((lambda x: x**2 - 2*x + 1), 3, (lambda x: 2*x - 2))"
   ]
  }
 ],
 "metadata": {
  "kernelspec": {
   "display_name": "Python 3",
   "language": "python",
   "name": "python3"
  },
  "language_info": {
   "codemirror_mode": {
    "name": "ipython",
    "version": 3
   },
   "file_extension": ".py",
   "mimetype": "text/x-python",
   "name": "python",
   "nbconvert_exporter": "python",
   "pygments_lexer": "ipython3",
   "version": "3.12.3"
  }
 },
 "nbformat": 4,
 "nbformat_minor": 2
}
