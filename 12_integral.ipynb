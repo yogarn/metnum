{
 "cells": [
  {
   "cell_type": "markdown",
   "metadata": {},
   "source": [
    "# Integral Numerik"
   ]
  },
  {
   "cell_type": "markdown",
   "metadata": {},
   "source": [
    "\\begin{align*}\n",
    "\\int_{a}^{b} f(x) dx\n",
    "\\end{align*}"
   ]
  },
  {
   "cell_type": "markdown",
   "metadata": {},
   "source": [
    "Merupakan luasan dari sebuah kurva yang dibatasi $a$ dan $b$ pada sumbu $x$."
   ]
  },
  {
   "cell_type": "code",
   "execution_count": 18,
   "metadata": {},
   "outputs": [],
   "source": [
    "def left_side_integral(f, a, b, n):\n",
    "    h = (b - a) / n\n",
    "    sum = 0\n",
    "    for i in range(n):\n",
    "        sum += f(a + h * i)\n",
    "    return sum * h"
   ]
  },
  {
   "cell_type": "code",
   "execution_count": 19,
   "metadata": {},
   "outputs": [],
   "source": [
    "def right_side_integral(f, a, b, n):\n",
    "    h = (b - a) / n\n",
    "    sum = 0\n",
    "    for i in range(1, n + 1):\n",
    "        sum += f(a + h * i)\n",
    "    return sum * h"
   ]
  },
  {
   "cell_type": "code",
   "execution_count": 20,
   "metadata": {},
   "outputs": [],
   "source": [
    "def trapezoid_rule(f, a, b, n):\n",
    "    h = (b - a) / n\n",
    "    sum = 0\n",
    "    for i in range(1, n):\n",
    "        sum += f(a + h * i)\n",
    "    return h * (f(a) + f(b) + 2 * sum) / 2"
   ]
  },
  {
   "cell_type": "code",
   "execution_count": 22,
   "metadata": {},
   "outputs": [
    {
     "name": "stdout",
     "output_type": "stream",
     "text": [
      "1.9897793240937607\n",
      "1.99020268411794\n",
      "1.9899910041058506\n"
     ]
    }
   ],
   "source": [
    "import numpy as np\n",
    "\n",
    "print(left_side_integral(lambda x: np.sin(x), 0, 3, 1000))\n",
    "print(right_side_integral(lambda x: np.sin(x), 0, 3, 1000))\n",
    "print(trapezoid_rule(lambda x: np.sin(x), 0, 3, 1000))"
   ]
  },
  {
   "cell_type": "markdown",
   "metadata": {},
   "source": [
    "# Toni"
   ]
  },
  {
   "cell_type": "code",
   "execution_count": 17,
   "metadata": {},
   "outputs": [
    {
     "name": "stdout",
     "output_type": "stream",
     "text": [
      "Rieman Kiri: 1.989779324093774\n",
      "Rieman Kanan: 1.9902026841179534\n",
      "Rieman Tengah: 1.9899932428478417\n",
      "Trapesium Method 1.9902026841179534\n"
     ]
    }
   ],
   "source": [
    "import numpy as np\n",
    "def rieman_kiri(a, b, n, fx):\n",
    "    hasil = 0\n",
    "    h = (b-a)/n\n",
    "    x = a\n",
    "    for i in range(n):\n",
    "        hasil += fx(x)\n",
    "        x += h\n",
    "    hasil *= h\n",
    "    return hasil\n",
    "\n",
    "def rieman_kanan(a, b, n, fx):\n",
    "    hasil = 0\n",
    "    h = (b-a)/n\n",
    "    x = a + h\n",
    "    for i in range(n):\n",
    "        hasil += fx(x)\n",
    "        x += h\n",
    "    hasil *= h\n",
    "    return hasil\n",
    "\n",
    "def rieman_tengah(a, b, n, fx):\n",
    "    hasil = 0\n",
    "    h = (b-a)/n\n",
    "    x = a\n",
    "    for i in range(n):\n",
    "        hasil += fx((x + (x + h)) / 2)\n",
    "        x += h\n",
    "    hasil *= h\n",
    "    return hasil\n",
    "\n",
    "def trapesium_method(a, b, n, fx):\n",
    "    hasil = 0\n",
    "    h = (b-a)/n\n",
    "    x = a\n",
    "    for i in range(n+1):\n",
    "        if i > 0 and i < n+1:\n",
    "            hasil += 2 * fx(x)\n",
    "        else :\n",
    "            hasil += fx(x)\n",
    "        x += h\n",
    "    hasil *= h/2\n",
    "    return hasil\n",
    "        \n",
    "rumus = lambda x: np.sin(x)\n",
    "print('Rieman Kiri:', rieman_kiri(0, 3, 1000, rumus))\n",
    "print('Rieman Kanan:' ,rieman_kanan(0, 3, 1000, rumus))\n",
    "print('Rieman Tengah:', rieman_tengah(0, 3, 1000, rumus))\n",
    "print('Trapesium Method', trapesium_method(0, 3, 1000, rumus))"
   ]
  },
  {
   "cell_type": "code",
   "execution_count": null,
   "metadata": {},
   "outputs": [],
   "source": []
  }
 ],
 "metadata": {
  "kernelspec": {
   "display_name": "Python 3",
   "language": "python",
   "name": "python3"
  },
  "language_info": {
   "codemirror_mode": {
    "name": "ipython",
    "version": 3
   },
   "file_extension": ".py",
   "mimetype": "text/x-python",
   "name": "python",
   "nbconvert_exporter": "python",
   "pygments_lexer": "ipython3",
   "version": "3.12.3"
  }
 },
 "nbformat": 4,
 "nbformat_minor": 2
}
