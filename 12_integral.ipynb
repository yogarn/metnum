{
 "cells": [
  {
   "cell_type": "markdown",
   "metadata": {},
   "source": [
    "# Integral Numerik"
   ]
  },
  {
   "cell_type": "markdown",
   "metadata": {},
   "source": [
    "\\begin{align*}\n",
    "\\int_{a}^{b} f(x) dx\n",
    "\\end{align*}"
   ]
  },
  {
   "cell_type": "markdown",
   "metadata": {},
   "source": [
    "Merupakan luasan dari sebuah kurva yang dibatasi $a$ dan $b$ pada sumbu $x$."
   ]
  },
  {
   "cell_type": "code",
   "execution_count": 1,
   "metadata": {},
   "outputs": [],
   "source": [
    "def right_side_integral(f, a, b, n):\n",
    "    h = (b - a) / n\n",
    "    sum = 0\n",
    "    for i in range(n):\n",
    "        sum += f(a + h * i)\n",
    "    return sum * h"
   ]
  },
  {
   "cell_type": "code",
   "execution_count": 2,
   "metadata": {},
   "outputs": [],
   "source": [
    "def left_side_integral(f, a, b, n):\n",
    "    h = (b - a) / n\n",
    "    sum = 0\n",
    "    for i in range(1, n + 1):\n",
    "        sum += f(a + h * i)\n",
    "    return sum * h"
   ]
  },
  {
   "cell_type": "code",
   "execution_count": 3,
   "metadata": {},
   "outputs": [],
   "source": [
    "def trapezoid_rule(f, a, b, n):\n",
    "    h = (b - a) / n\n",
    "    sum = 0\n",
    "    for i in range(1, n):\n",
    "        sum += f(a + h * i)\n",
    "    return h * (f(a) + f(b) + 2 * sum) / 2"
   ]
  },
  {
   "cell_type": "markdown",
   "metadata": {},
   "source": [
    "# Toni"
   ]
  },
  {
   "cell_type": "code",
   "execution_count": null,
   "metadata": {},
   "outputs": [],
   "source": [
    "import numpy as np\n",
    "def rieman_kiri(a, b, n, fx):\n",
    "    hasil = 0\n",
    "    h = (b-a)/n\n",
    "    x = a\n",
    "    for i in range(n):\n",
    "        hasil += fx(x)\n",
    "        x += h\n",
    "    hasil *= h\n",
    "    return hasil\n",
    "\n",
    "def rieman_kanan(a, b, n, fx):\n",
    "    hasil = 0\n",
    "    h = (b-a)/n\n",
    "    x = a + h\n",
    "    for i in range(n):\n",
    "        hasil += fx(x)\n",
    "        x += h\n",
    "    hasil *= h\n",
    "    return hasil\n",
    "\n",
    "def rieman_tengah(a, b, n, fx):\n",
    "    hasil = 0\n",
    "    h = (b-a)/n\n",
    "    x = a\n",
    "    for i in range(n):\n",
    "        hasil += fx((x + (x + h)) / 2)\n",
    "        x += h\n",
    "    hasil *= h\n",
    "    return hasil\n",
    "\n",
    "def trapesium_method(a, b, n, fx):\n",
    "    hasil = 0\n",
    "    h = (b-a)/n\n",
    "    x = a\n",
    "    for i in range(n+1):\n",
    "        if i > 0 and i < n+1:\n",
    "            hasil += 2 * fx(x)\n",
    "        else :\n",
    "            hasil += fx(x)\n",
    "        x += h\n",
    "    hasil *= h/2\n",
    "    return hasil\n",
    "        \n",
    "rumus = lambda x: np.cos(2 * np.pi * x)\n",
    "print('Rieman Kiri:', rieman_kiri(0, 1, 4, rumus))\n",
    "print('Rieman Kanan:' ,rieman_kanan(0, 1, 4, rumus))\n",
    "print('Rieman Tengah:', rieman_tengah(0, 1, 4, rumus))\n",
    "print('Trapesium Method', trapesium_method(0, 1, 4, rumus))"
   ]
  }
 ],
 "metadata": {
  "kernelspec": {
   "display_name": "Python 3",
   "language": "python",
   "name": "python3"
  },
  "language_info": {
   "codemirror_mode": {
    "name": "ipython",
    "version": 3
   },
   "file_extension": ".py",
   "mimetype": "text/x-python",
   "name": "python",
   "nbconvert_exporter": "python",
   "pygments_lexer": "ipython3",
   "version": "3.12.3"
  }
 },
 "nbformat": 4,
 "nbformat_minor": 2
}
