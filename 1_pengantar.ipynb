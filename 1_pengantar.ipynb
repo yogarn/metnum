{
 "cells": [
  {
   "cell_type": "markdown",
   "id": "e50e3202",
   "metadata": {},
   "source": [
    "## Menghitung Turunan Menggunakan Metode Numerik"
   ]
  },
  {
   "cell_type": "code",
   "execution_count": null,
   "id": "943f3e9c-1165-4b05-ad3d-bf7947c69435",
   "metadata": {},
   "outputs": [],
   "source": [
    "def forward_diff(f, x, h=0.0001):\n",
    "    df = (f(x+h) - f(x))/h\n",
    "    return df"
   ]
  },
  {
   "cell_type": "code",
   "execution_count": 11,
   "id": "3436d4f1-2899-40de-8fc9-cd1fb6ced8d6",
   "metadata": {},
   "outputs": [],
   "source": [
    "def fx(x):\n",
    "    y = pow(x,2)+3*x+5\n",
    "    return y"
   ]
  },
  {
   "cell_type": "code",
   "execution_count": 13,
   "id": "42fc99bf-2561-4959-9649-5b0321f0c61d",
   "metadata": {},
   "outputs": [
    {
     "name": "stdout",
     "output_type": "stream",
     "text": [
      "first derivative =  23.000099999990198\n"
     ]
    }
   ],
   "source": [
    "x = 10.0\n",
    "df = forward_diff(fx, x)\n",
    "print ('first derivative = ', df)"
   ]
  }
 ],
 "metadata": {
  "kernelspec": {
   "display_name": "Python 3 (ipykernel)",
   "language": "python",
   "name": "python3"
  },
  "language_info": {
   "codemirror_mode": {
    "name": "ipython",
    "version": 3
   },
   "file_extension": ".py",
   "mimetype": "text/x-python",
   "name": "python",
   "nbconvert_exporter": "python",
   "pygments_lexer": "ipython3",
   "version": "3.12.3"
  }
 },
 "nbformat": 4,
 "nbformat_minor": 5
}
