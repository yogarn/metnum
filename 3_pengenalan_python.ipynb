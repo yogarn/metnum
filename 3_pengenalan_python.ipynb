{
  "cells": [
    {
      "cell_type": "markdown",
      "metadata": {
        "id": "ERCwokk4i61R"
      },
      "source": [
        "Ini teks"
      ]
    },
    {
      "cell_type": "code",
      "execution_count": 1,
      "metadata": {
        "colab": {
          "base_uri": "https://localhost:8080/"
        },
        "id": "Fs6bhnCjj4nz",
        "outputId": "6f0f2f9f-5667-4e8f-88af-79435e2124cd"
      },
      "outputs": [
        {
          "name": "stdout",
          "output_type": "stream",
          "text": [
            "halo\n"
          ]
        }
      ],
      "source": [
        "print ('halo')"
      ]
    },
    {
      "cell_type": "code",
      "execution_count": 2,
      "metadata": {
        "colab": {
          "base_uri": "https://localhost:8080/"
        },
        "id": "3qNBE_dJixIs",
        "outputId": "a3c225bf-adbf-4c05-acf7-510e661e8d9d"
      },
      "outputs": [
        {
          "name": "stdout",
          "output_type": "stream",
          "text": [
            "3\n"
          ]
        }
      ],
      "source": [
        "p = 1\n",
        "q = 2\n",
        "r = p+q\n",
        "print (r)"
      ]
    },
    {
      "cell_type": "markdown",
      "metadata": {
        "id": "ybc-duWjGLHB"
      },
      "source": []
    },
    {
      "cell_type": "code",
      "execution_count": 3,
      "metadata": {
        "colab": {
          "base_uri": "https://localhost:8080/"
        },
        "id": "a_-WmHXGF46E",
        "outputId": "952272b5-6afd-43c3-cf2e-915ca92ff36c"
      },
      "outputs": [
        {
          "name": "stdout",
          "output_type": "stream",
          "text": [
            "3.3\n"
          ]
        }
      ],
      "source": [
        "a = 1\n",
        "b = 2.3\n",
        "c = a + b\n",
        "print (c)"
      ]
    },
    {
      "cell_type": "markdown",
      "metadata": {
        "id": "tRZ3JopplkLA"
      },
      "source": [
        "## Struktur data\n",
        "\n",
        "\n",
        "1.   List\n",
        "      - mutable\n",
        "      - their elements are usually homogeneous and are accessed by iterating over the list.\n",
        "2.   Tuple\n",
        "      -  immutable\n",
        "      - usually contain a heterogeneous sequence of elements\n",
        "\n",
        "1.   Set\n",
        "      - store an unordered collection with no duplicate elements\n",
        "      - upport the mathematical operations like union, intersection, difference, and symmetric difference\n",
        "\n",
        "2.   Dictionaries\n",
        "    \n",
        "    - elements are stored without order\n",
        "    - To get access to a dictionary, we need to use the key of the element - dictionary[key]\n",
        "\n",
        "\n",
        "\n",
        "\n",
        "\n"
      ]
    },
    {
      "cell_type": "code",
      "execution_count": 4,
      "metadata": {
        "colab": {
          "base_uri": "https://localhost:8080/"
        },
        "id": "nn5c-lporOKO",
        "outputId": "f3f9244c-d10c-4007-88c7-3f0d6d8be393"
      },
      "outputs": [
        {
          "data": {
            "text/plain": [
              "[1, 2, 3]"
            ]
          },
          "execution_count": 4,
          "metadata": {},
          "output_type": "execute_result"
        }
      ],
      "source": [
        "#1. List\n",
        "\n",
        "list_1 = [1, 2, 3]\n",
        "list_1"
      ]
    },
    {
      "cell_type": "code",
      "execution_count": 5,
      "metadata": {
        "colab": {
          "base_uri": "https://localhost:8080/"
        },
        "id": "T1rhLl8Nrg1h",
        "outputId": "18c828e7-985a-444c-959a-342d1796da80"
      },
      "outputs": [
        {
          "data": {
            "text/plain": [
              "['Hello', 'World']"
            ]
          },
          "execution_count": 5,
          "metadata": {},
          "output_type": "execute_result"
        }
      ],
      "source": [
        "list_2 = ['Hello', 'World']\n",
        "list_2"
      ]
    },
    {
      "cell_type": "code",
      "execution_count": 6,
      "metadata": {
        "colab": {
          "base_uri": "https://localhost:8080/"
        },
        "id": "bwf15-iorVz2",
        "outputId": "e8fac464-07b6-451f-a0a8-5dd686a662aa"
      },
      "outputs": [
        {
          "data": {
            "text/plain": [
              "[1, 2, 3, 'Apple', 'orange']"
            ]
          },
          "execution_count": 6,
          "metadata": {},
          "output_type": "execute_result"
        }
      ],
      "source": [
        "list_3 = [1, 2, 3, 'Apple', 'orange']\n",
        "list_3"
      ]
    },
    {
      "cell_type": "code",
      "execution_count": 7,
      "metadata": {
        "colab": {
          "base_uri": "https://localhost:8080/"
        },
        "id": "NiE8Ju_yraQe",
        "outputId": "0a6288ce-bf86-4f6a-c960-57082e60c221"
      },
      "outputs": [
        {
          "data": {
            "text/plain": [
              "[[1, 2, 3], ['Hello', 'World'], [1, 2, 3, 'Apple', 'orange']]"
            ]
          },
          "execution_count": 7,
          "metadata": {},
          "output_type": "execute_result"
        }
      ],
      "source": [
        "list_4 = [list_1, list_2, list_3]\n",
        "list_4"
      ]
    },
    {
      "cell_type": "code",
      "execution_count": 8,
      "metadata": {
        "colab": {
          "base_uri": "https://localhost:8080/",
          "height": 35
        },
        "id": "ZBlhAjUorq5K",
        "outputId": "66c9822c-2ccc-46c8-f34b-8d66b7aaaa21"
      },
      "outputs": [
        {
          "data": {
            "text/plain": [
              "'orange'"
            ]
          },
          "execution_count": 8,
          "metadata": {},
          "output_type": "execute_result"
        }
      ],
      "source": [
        "list_3[2] #Get the 3rd element in list_3\n",
        "list_3[4]\n"
      ]
    },
    {
      "cell_type": "code",
      "execution_count": 9,
      "metadata": {
        "colab": {
          "base_uri": "https://localhost:8080/"
        },
        "id": "PBYWwadir5yO",
        "outputId": "84821424-f231-477e-c5c4-6a2d1ad14be9"
      },
      "outputs": [
        {
          "data": {
            "text/plain": [
              "[1, 2, 3, 'Apple']"
            ]
          },
          "execution_count": 9,
          "metadata": {},
          "output_type": "execute_result"
        }
      ],
      "source": [
        "list_3[:4] # Get the first 3 elements in list_3"
      ]
    },
    {
      "cell_type": "code",
      "execution_count": 10,
      "metadata": {
        "colab": {
          "base_uri": "https://localhost:8080/",
          "height": 35
        },
        "id": "k8EFGDi5sDMN",
        "outputId": "d4f43eeb-a25f-4156-ee92-65472696f032"
      },
      "outputs": [
        {
          "data": {
            "text/plain": [
              "'orange'"
            ]
          },
          "execution_count": 10,
          "metadata": {},
          "output_type": "execute_result"
        }
      ],
      "source": [
        "list_3[-1] #Get the last element in list_3"
      ]
    },
    {
      "cell_type": "code",
      "execution_count": 11,
      "metadata": {
        "colab": {
          "base_uri": "https://localhost:8080/"
        },
        "id": "eYZSKsPksNhC",
        "outputId": "d3c141db-8bdd-450e-aeea-a875508b7e94"
      },
      "outputs": [
        {
          "data": {
            "text/plain": [
              "5"
            ]
          },
          "execution_count": 11,
          "metadata": {},
          "output_type": "execute_result"
        }
      ],
      "source": [
        "len(list_3)"
      ]
    },
    {
      "cell_type": "code",
      "execution_count": 12,
      "metadata": {
        "colab": {
          "base_uri": "https://localhost:8080/"
        },
        "id": "cUic8-ScsQ9s",
        "outputId": "a2c97edf-2cae-4620-c62e-69c0c85c3eb7"
      },
      "outputs": [
        {
          "data": {
            "text/plain": [
              "[1, 2, 3, 'Hello', 'World']"
            ]
          },
          "execution_count": 12,
          "metadata": {},
          "output_type": "execute_result"
        }
      ],
      "source": [
        "listx = list_1 + list_2  # Add list_1 and list_2 to one list.\n",
        "listx"
      ]
    },
    {
      "cell_type": "code",
      "execution_count": 13,
      "metadata": {
        "colab": {
          "base_uri": "https://localhost:8080/"
        },
        "id": "vXd49pDYsaNa",
        "outputId": "335f6fc0-bdf5-4575-df3f-16df1638de67"
      },
      "outputs": [
        {
          "data": {
            "text/plain": [
              "[1, 2, 3, 4]"
            ]
          },
          "execution_count": 13,
          "metadata": {},
          "output_type": "execute_result"
        }
      ],
      "source": [
        "list_1.append(4)\n",
        "list_1"
      ]
    },
    {
      "cell_type": "code",
      "execution_count": 14,
      "metadata": {
        "colab": {
          "base_uri": "https://localhost:8080/"
        },
        "id": "EUP6Iy-hsr3q",
        "outputId": "7157cc58-76f5-47e2-cd8d-c66d4cc449b0"
      },
      "outputs": [
        {
          "data": {
            "text/plain": [
              "[1, 2, 'center', 3, 4]"
            ]
          },
          "execution_count": 14,
          "metadata": {},
          "output_type": "execute_result"
        }
      ],
      "source": [
        "list_1.insert(2,'center')\n",
        "list_1"
      ]
    },
    {
      "cell_type": "code",
      "execution_count": 15,
      "metadata": {
        "colab": {
          "base_uri": "https://localhost:8080/"
        },
        "id": "CyPTqZ7npWkv",
        "outputId": "c8b85b16-d1a0-4795-8f65-a581d3c81470"
      },
      "outputs": [
        {
          "data": {
            "text/plain": [
              "(1, 2, 3, 2)"
            ]
          },
          "execution_count": 15,
          "metadata": {},
          "output_type": "execute_result"
        }
      ],
      "source": [
        "#2. Tuples\n",
        "\n",
        "tuple_1 = (1, 2, 3, 2)\n",
        "tuple_1"
      ]
    },
    {
      "cell_type": "code",
      "execution_count": 16,
      "metadata": {
        "colab": {
          "base_uri": "https://localhost:8080/"
        },
        "id": "bXXy7urup0qa",
        "outputId": "5603f94a-8eab-4192-fe63-863b4e4284c7"
      },
      "outputs": [
        {
          "data": {
            "text/plain": [
              "4"
            ]
          },
          "execution_count": 16,
          "metadata": {},
          "output_type": "execute_result"
        }
      ],
      "source": [
        "len(tuple_1)"
      ]
    },
    {
      "cell_type": "code",
      "execution_count": 17,
      "metadata": {
        "colab": {
          "base_uri": "https://localhost:8080/"
        },
        "id": "TQkcPt1dp7es",
        "outputId": "407b66dc-eaf3-4471-81dc-8bc44601d6e3"
      },
      "outputs": [
        {
          "data": {
            "text/plain": [
              "2"
            ]
          },
          "execution_count": 17,
          "metadata": {},
          "output_type": "execute_result"
        }
      ],
      "source": [
        "tuple_1.count(2)"
      ]
    },
    {
      "cell_type": "code",
      "execution_count": 18,
      "metadata": {
        "colab": {
          "base_uri": "https://localhost:8080/"
        },
        "id": "JdqCrP8roiKp",
        "outputId": "e186aef3-1ca5-49d6-f5d5-8072ef06577a"
      },
      "outputs": [
        {
          "data": {
            "text/plain": [
              "{1, 2, 3}"
            ]
          },
          "execution_count": 18,
          "metadata": {},
          "output_type": "execute_result"
        }
      ],
      "source": [
        "#3. Sets\n",
        "\n",
        "set_1 = set([1, 2, 2, 3, 2, 1, 2])\n",
        "set_1"
      ]
    },
    {
      "cell_type": "code",
      "execution_count": 19,
      "metadata": {
        "colab": {
          "base_uri": "https://localhost:8080/"
        },
        "id": "bBfTntqgoyPH",
        "outputId": "47d92d1a-3e01-4e0c-a5d6-13577dfffa95"
      },
      "outputs": [
        {
          "data": {
            "text/plain": [
              "{2, 4, 5, 6}"
            ]
          },
          "execution_count": 19,
          "metadata": {},
          "output_type": "execute_result"
        }
      ],
      "source": [
        "set_2 = set((2, 4, 6, 5, 2))\n",
        "set_2"
      ]
    },
    {
      "cell_type": "code",
      "execution_count": 20,
      "metadata": {
        "colab": {
          "base_uri": "https://localhost:8080/"
        },
        "id": "11ibhRKuo58i",
        "outputId": "fe6652a5-f92e-4011-8c96-416bba6c0152"
      },
      "outputs": [
        {
          "name": "stdout",
          "output_type": "stream",
          "text": [
            "{1, 2, 3}\n",
            "{2, 4, 5, 6}\n"
          ]
        }
      ],
      "source": [
        "print(set_1)\n",
        "print(set_2)"
      ]
    },
    {
      "cell_type": "code",
      "execution_count": 21,
      "metadata": {
        "colab": {
          "base_uri": "https://localhost:8080/"
        },
        "id": "Y6YQEUTeo_BG",
        "outputId": "ae38e4bb-6b3f-47dc-ea3f-9520a29716ee"
      },
      "outputs": [
        {
          "data": {
            "text/plain": [
              "{1, 2, 3, 4, 5, 6}"
            ]
          },
          "execution_count": 21,
          "metadata": {},
          "output_type": "execute_result"
        }
      ],
      "source": [
        "set_1.union(set_2)"
      ]
    },
    {
      "cell_type": "code",
      "execution_count": 22,
      "metadata": {
        "colab": {
          "base_uri": "https://localhost:8080/"
        },
        "id": "uWbqpQ3spDro",
        "outputId": "f5ca22af-ade1-470b-d5e7-608e53339069"
      },
      "outputs": [
        {
          "data": {
            "text/plain": [
              "{2}"
            ]
          },
          "execution_count": 22,
          "metadata": {},
          "output_type": "execute_result"
        }
      ],
      "source": [
        "set_1.intersection(set_2)"
      ]
    },
    {
      "cell_type": "code",
      "execution_count": 23,
      "metadata": {
        "colab": {
          "base_uri": "https://localhost:8080/"
        },
        "id": "WuNejMORpIet",
        "outputId": "77a57d34-433c-43a4-8047-9e5958ab04e8"
      },
      "outputs": [
        {
          "data": {
            "text/plain": [
              "True"
            ]
          },
          "execution_count": 23,
          "metadata": {},
          "output_type": "execute_result"
        }
      ],
      "source": [
        "set_1.issubset({1, 2, 3, 3, 4, 5})"
      ]
    },
    {
      "cell_type": "code",
      "execution_count": 24,
      "metadata": {
        "colab": {
          "base_uri": "https://localhost:8080/"
        },
        "id": "Y2uwIIVGlawT",
        "outputId": "a45197f8-f32d-4302-ebb9-fb7f12a9d86d"
      },
      "outputs": [
        {
          "data": {
            "text/plain": [
              "{'apple': 3, 'oragne': 4, 'pear': 2}"
            ]
          },
          "execution_count": 24,
          "metadata": {},
          "output_type": "execute_result"
        }
      ],
      "source": [
        "#4. Dictionaries\n",
        "\n",
        "dict_1 = {'apple':3, 'oragne':4, 'pear':2}\n",
        "dict_1"
      ]
    },
    {
      "cell_type": "code",
      "execution_count": 25,
      "metadata": {
        "colab": {
          "base_uri": "https://localhost:8080/"
        },
        "id": "4N7dZKjinFwj",
        "outputId": "4ebc50df-5f11-4d85-9bdf-cc2cc6ae872a"
      },
      "outputs": [
        {
          "data": {
            "text/plain": [
              "3"
            ]
          },
          "execution_count": 25,
          "metadata": {},
          "output_type": "execute_result"
        }
      ],
      "source": [
        "dict_1['apple']"
      ]
    },
    {
      "cell_type": "code",
      "execution_count": 26,
      "metadata": {
        "colab": {
          "base_uri": "https://localhost:8080/"
        },
        "id": "ORUjHfIHnylN",
        "outputId": "0efd8411-52e7-4b5b-d910-88afa5e4e725"
      },
      "outputs": [
        {
          "data": {
            "text/plain": [
              "dict_keys(['apple', 'oragne', 'pear'])"
            ]
          },
          "execution_count": 26,
          "metadata": {},
          "output_type": "execute_result"
        }
      ],
      "source": [
        "dict_1.keys()"
      ]
    },
    {
      "cell_type": "code",
      "execution_count": 27,
      "metadata": {
        "colab": {
          "base_uri": "https://localhost:8080/"
        },
        "id": "xjRsPdrDn1sh",
        "outputId": "c9028c8e-9a89-4668-c692-a364e64e9806"
      },
      "outputs": [
        {
          "data": {
            "text/plain": [
              "dict_values([3, 4, 2])"
            ]
          },
          "execution_count": 27,
          "metadata": {},
          "output_type": "execute_result"
        }
      ],
      "source": [
        "dict_1.values()"
      ]
    },
    {
      "cell_type": "code",
      "execution_count": 28,
      "metadata": {
        "colab": {
          "base_uri": "https://localhost:8080/"
        },
        "id": "7wU_XjfAn56H",
        "outputId": "03d9a58c-1ff6-43b9-f971-7010b51312f3"
      },
      "outputs": [
        {
          "data": {
            "text/plain": [
              "3"
            ]
          },
          "execution_count": 28,
          "metadata": {},
          "output_type": "execute_result"
        }
      ],
      "source": [
        "len(dict_1)"
      ]
    },
    {
      "cell_type": "markdown",
      "metadata": {
        "id": "7qzL5WhQlips"
      },
      "source": [
        "## Numpy Arrays\n",
        "\n",
        "Numpy is the most fundamental numerical computing module in Python.\n",
        "\n",
        "##Few important features for Numpy :\n",
        "\n",
        "\n",
        "*   a powerful N-dimensional array object\n",
        "*   sophisticated (broadcasting) functions\n",
        "\n",
        "\n",
        "*   tools for integrating C/C++ and Fortran code\n",
        "*   useful linear algebra, Fourier transform, and random number capabilities\n",
        "\n",
        "c:> pip install numpy\n",
        "\n",
        "\n",
        "\n",
        "\n",
        "\n",
        "\n",
        "\n",
        "\n"
      ]
    },
    {
      "cell_type": "code",
      "execution_count": 29,
      "metadata": {
        "id": "MNEnUsnut3iy"
      },
      "outputs": [],
      "source": [
        "import numpy as np"
      ]
    },
    {
      "cell_type": "markdown",
      "metadata": {
        "id": "jISHpjI5uA9f"
      },
      "source": [
        "Create the following arrays:\n",
        "\n",
        "$$ x = \\begin{pmatrix}\n",
        "       1 & 4 & 3\n",
        "       \\end{pmatrix}\n",
        "$$\n",
        "\n",
        "$$\n",
        "y  = \\begin{pmatrix}\n",
        "      1 & 4 & 3\\\\\n",
        "      9 & 2 & 7\n",
        "      \\end{pmatrix}\n",
        "$$\n"
      ]
    },
    {
      "cell_type": "code",
      "execution_count": 30,
      "metadata": {
        "colab": {
          "base_uri": "https://localhost:8080/"
        },
        "id": "ESlfwdq-yHFn",
        "outputId": "4cf66feb-cf95-4d63-8112-68b7c8a342da"
      },
      "outputs": [
        {
          "data": {
            "text/plain": [
              "array([1, 4, 3])"
            ]
          },
          "execution_count": 30,
          "metadata": {},
          "output_type": "execute_result"
        }
      ],
      "source": [
        "x = np.array([1,4,3])\n",
        "x"
      ]
    },
    {
      "cell_type": "code",
      "execution_count": 31,
      "metadata": {
        "colab": {
          "base_uri": "https://localhost:8080/"
        },
        "id": "C2c9kDl-yiia",
        "outputId": "3a6dcc6e-0289-414f-a884-3eda3908c22f"
      },
      "outputs": [
        {
          "data": {
            "text/plain": [
              "array([[1, 4, 3],\n",
              "       [9, 2, 7]])"
            ]
          },
          "execution_count": 31,
          "metadata": {},
          "output_type": "execute_result"
        }
      ],
      "source": [
        "y = np.array([[1,4,3],[9,2,7]])\n",
        "y"
      ]
    },
    {
      "cell_type": "code",
      "execution_count": 32,
      "metadata": {
        "colab": {
          "base_uri": "https://localhost:8080/"
        },
        "id": "_XKgZvaoy2lp",
        "outputId": "5c748cca-cc3a-4106-b4d9-40994e7eff2b"
      },
      "outputs": [
        {
          "data": {
            "text/plain": [
              "(2, 3)"
            ]
          },
          "execution_count": 32,
          "metadata": {},
          "output_type": "execute_result"
        }
      ],
      "source": [
        "y.shape  # Find the rows and, columns"
      ]
    },
    {
      "cell_type": "code",
      "execution_count": 33,
      "metadata": {
        "colab": {
          "base_uri": "https://localhost:8080/"
        },
        "id": "lJDoI1yDzIWX",
        "outputId": "31bd6b24-a75b-4656-a331-d90297230154"
      },
      "outputs": [
        {
          "data": {
            "text/plain": [
              "6"
            ]
          },
          "execution_count": 33,
          "metadata": {},
          "output_type": "execute_result"
        }
      ],
      "source": [
        "y.size # total size for array y"
      ]
    },
    {
      "cell_type": "code",
      "execution_count": 34,
      "metadata": {
        "colab": {
          "base_uri": "https://localhost:8080/"
        },
        "id": "H08yH9AXzRNT",
        "outputId": "32d19080-c322-4214-9196-a7ac399aec48"
      },
      "outputs": [
        {
          "data": {
            "text/plain": [
              "array([   1,    4,    7,   10,   13,   16,   19,   22,   25,   28,   31,\n",
              "         34,   37,   40,   43,   46,   49,   52,   55,   58,   61,   64,\n",
              "         67,   70,   73,   76,   79,   82,   85,   88,   91,   94,   97,\n",
              "        100,  103,  106,  109,  112,  115,  118,  121,  124,  127,  130,\n",
              "        133,  136,  139,  142,  145,  148,  151,  154,  157,  160,  163,\n",
              "        166,  169,  172,  175,  178,  181,  184,  187,  190,  193,  196,\n",
              "        199,  202,  205,  208,  211,  214,  217,  220,  223,  226,  229,\n",
              "        232,  235,  238,  241,  244,  247,  250,  253,  256,  259,  262,\n",
              "        265,  268,  271,  274,  277,  280,  283,  286,  289,  292,  295,\n",
              "        298,  301,  304,  307,  310,  313,  316,  319,  322,  325,  328,\n",
              "        331,  334,  337,  340,  343,  346,  349,  352,  355,  358,  361,\n",
              "        364,  367,  370,  373,  376,  379,  382,  385,  388,  391,  394,\n",
              "        397,  400,  403,  406,  409,  412,  415,  418,  421,  424,  427,\n",
              "        430,  433,  436,  439,  442,  445,  448,  451,  454,  457,  460,\n",
              "        463,  466,  469,  472,  475,  478,  481,  484,  487,  490,  493,\n",
              "        496,  499,  502,  505,  508,  511,  514,  517,  520,  523,  526,\n",
              "        529,  532,  535,  538,  541,  544,  547,  550,  553,  556,  559,\n",
              "        562,  565,  568,  571,  574,  577,  580,  583,  586,  589,  592,\n",
              "        595,  598,  601,  604,  607,  610,  613,  616,  619,  622,  625,\n",
              "        628,  631,  634,  637,  640,  643,  646,  649,  652,  655,  658,\n",
              "        661,  664,  667,  670,  673,  676,  679,  682,  685,  688,  691,\n",
              "        694,  697,  700,  703,  706,  709,  712,  715,  718,  721,  724,\n",
              "        727,  730,  733,  736,  739,  742,  745,  748,  751,  754,  757,\n",
              "        760,  763,  766,  769,  772,  775,  778,  781,  784,  787,  790,\n",
              "        793,  796,  799,  802,  805,  808,  811,  814,  817,  820,  823,\n",
              "        826,  829,  832,  835,  838,  841,  844,  847,  850,  853,  856,\n",
              "        859,  862,  865,  868,  871,  874,  877,  880,  883,  886,  889,\n",
              "        892,  895,  898,  901,  904,  907,  910,  913,  916,  919,  922,\n",
              "        925,  928,  931,  934,  937,  940,  943,  946,  949,  952,  955,\n",
              "        958,  961,  964,  967,  970,  973,  976,  979,  982,  985,  988,\n",
              "        991,  994,  997, 1000, 1003, 1006, 1009, 1012, 1015, 1018, 1021,\n",
              "       1024, 1027, 1030, 1033, 1036, 1039, 1042, 1045, 1048, 1051, 1054,\n",
              "       1057, 1060, 1063, 1066, 1069, 1072, 1075, 1078, 1081, 1084, 1087,\n",
              "       1090, 1093, 1096, 1099, 1102, 1105, 1108, 1111, 1114, 1117, 1120,\n",
              "       1123, 1126, 1129, 1132, 1135, 1138, 1141, 1144, 1147, 1150, 1153,\n",
              "       1156, 1159, 1162, 1165, 1168, 1171, 1174, 1177, 1180, 1183, 1186,\n",
              "       1189, 1192, 1195, 1198, 1201, 1204, 1207, 1210, 1213, 1216, 1219,\n",
              "       1222, 1225, 1228, 1231, 1234, 1237, 1240, 1243, 1246, 1249, 1252,\n",
              "       1255, 1258, 1261, 1264, 1267, 1270, 1273, 1276, 1279, 1282, 1285,\n",
              "       1288, 1291, 1294, 1297, 1300, 1303, 1306, 1309, 1312, 1315, 1318,\n",
              "       1321, 1324, 1327, 1330, 1333, 1336, 1339, 1342, 1345, 1348, 1351,\n",
              "       1354, 1357, 1360, 1363, 1366, 1369, 1372, 1375, 1378, 1381, 1384,\n",
              "       1387, 1390, 1393, 1396, 1399, 1402, 1405, 1408, 1411, 1414, 1417,\n",
              "       1420, 1423, 1426, 1429, 1432, 1435, 1438, 1441, 1444, 1447, 1450,\n",
              "       1453, 1456, 1459, 1462, 1465, 1468, 1471, 1474, 1477, 1480, 1483,\n",
              "       1486, 1489, 1492, 1495, 1498, 1501, 1504, 1507, 1510, 1513, 1516,\n",
              "       1519, 1522, 1525, 1528, 1531, 1534, 1537, 1540, 1543, 1546, 1549,\n",
              "       1552, 1555, 1558, 1561, 1564, 1567, 1570, 1573, 1576, 1579, 1582,\n",
              "       1585, 1588, 1591, 1594, 1597, 1600, 1603, 1606, 1609, 1612, 1615,\n",
              "       1618, 1621, 1624, 1627, 1630, 1633, 1636, 1639, 1642, 1645, 1648,\n",
              "       1651, 1654, 1657, 1660, 1663, 1666, 1669, 1672, 1675, 1678, 1681,\n",
              "       1684, 1687, 1690, 1693, 1696, 1699, 1702, 1705, 1708, 1711, 1714,\n",
              "       1717, 1720, 1723, 1726, 1729, 1732, 1735, 1738, 1741, 1744, 1747,\n",
              "       1750, 1753, 1756, 1759, 1762, 1765, 1768, 1771, 1774, 1777, 1780,\n",
              "       1783, 1786, 1789, 1792, 1795, 1798, 1801, 1804, 1807, 1810, 1813,\n",
              "       1816, 1819, 1822, 1825, 1828, 1831, 1834, 1837, 1840, 1843, 1846,\n",
              "       1849, 1852, 1855, 1858, 1861, 1864, 1867, 1870, 1873, 1876, 1879,\n",
              "       1882, 1885, 1888, 1891, 1894, 1897, 1900, 1903, 1906, 1909, 1912,\n",
              "       1915, 1918, 1921, 1924, 1927, 1930, 1933, 1936, 1939, 1942, 1945,\n",
              "       1948, 1951, 1954, 1957, 1960, 1963, 1966, 1969, 1972, 1975, 1978,\n",
              "       1981, 1984, 1987, 1990, 1993, 1996, 1999])"
            ]
          },
          "execution_count": 34,
          "metadata": {},
          "output_type": "execute_result"
        }
      ],
      "source": [
        "z = np.arange(1, 2000, 3) # Create an array z from 1 to 2000 with an increment 2.\n",
        "z"
      ]
    },
    {
      "cell_type": "code",
      "execution_count": 35,
      "metadata": {
        "colab": {
          "base_uri": "https://localhost:8080/"
        },
        "id": "pBFdpRc6z4d5",
        "outputId": "31f72029-dd25-4054-cff1-dd19db32f32e"
      },
      "outputs": [
        {
          "data": {
            "text/plain": [
              "array([0.5, 0.6, 0.7, 0.8, 0.9, 1. , 1.1, 1.2, 1.3, 1.4, 1.5, 1.6, 1.7,\n",
              "       1.8, 1.9, 2. , 2.1, 2.2, 2.3, 2.4, 2.5, 2.6, 2.7, 2.8, 2.9])"
            ]
          },
          "execution_count": 35,
          "metadata": {},
          "output_type": "execute_result"
        }
      ],
      "source": [
        "p = np.arange(0.5, 3, 0.1) # Generate an array with [0.5, 1, 1.5, 2, 2.5]\n",
        "p"
      ]
    },
    {
      "cell_type": "code",
      "execution_count": 36,
      "metadata": {
        "colab": {
          "base_uri": "https://localhost:8080/"
        },
        "id": "tA5O3ecY0aH5",
        "outputId": "5c75feda-baea-4b1d-e405-3660d3d93cdb"
      },
      "outputs": [
        {
          "data": {
            "text/plain": [
              "array([3.        , 3.66666667, 4.33333333, 5.        , 5.66666667,\n",
              "       6.33333333, 7.        , 7.66666667, 8.33333333, 9.        ])"
            ]
          },
          "execution_count": 36,
          "metadata": {},
          "output_type": "execute_result"
        }
      ],
      "source": [
        "q = np.linspace(3, 9, 10) # generate an array starting at 3, ending at 9, and containing 10 elements\n",
        "q"
      ]
    },
    {
      "cell_type": "code",
      "execution_count": 37,
      "metadata": {
        "colab": {
          "base_uri": "https://localhost:8080/"
        },
        "id": "1ok2L8pD0n5z",
        "outputId": "db9e90f4-0af0-4ad3-9aa8-2e9f69aef30c"
      },
      "outputs": [
        {
          "data": {
            "text/plain": [
              "3.6666666666666665"
            ]
          },
          "execution_count": 37,
          "metadata": {},
          "output_type": "execute_result"
        }
      ],
      "source": [
        "q[1] # get the 2nd element of q\n"
      ]
    },
    {
      "cell_type": "code",
      "execution_count": 38,
      "metadata": {
        "colab": {
          "base_uri": "https://localhost:8080/"
        },
        "id": "ZDnAQOlO0z_e",
        "outputId": "9cfcf779-6872-423f-d119-38655725b7ac"
      },
      "outputs": [
        {
          "data": {
            "text/plain": [
              "array([6.33333333, 7.        , 7.66666667, 8.33333333, 9.        ])"
            ]
          },
          "execution_count": 38,
          "metadata": {},
          "output_type": "execute_result"
        }
      ],
      "source": [
        "q[5:] # get all the element after the 5nd element of q"
      ]
    },
    {
      "cell_type": "code",
      "execution_count": 39,
      "metadata": {
        "colab": {
          "base_uri": "https://localhost:8080/"
        },
        "id": "uGOfebRzny3A",
        "outputId": "37976b9f-cf87-4042-dec2-96fcf1b9cb9f"
      },
      "outputs": [
        {
          "data": {
            "text/plain": [
              "array([3.        , 3.66666667, 4.33333333])"
            ]
          },
          "execution_count": 39,
          "metadata": {},
          "output_type": "execute_result"
        }
      ],
      "source": [
        "q[:3]"
      ]
    },
    {
      "cell_type": "code",
      "execution_count": 40,
      "metadata": {
        "colab": {
          "base_uri": "https://localhost:8080/"
        },
        "id": "ZWsKEtMj1I73",
        "outputId": "e339a437-782c-4479-9cf6-410637b11720"
      },
      "outputs": [
        {
          "data": {
            "text/plain": [
              "9.0"
            ]
          },
          "execution_count": 40,
          "metadata": {},
          "output_type": "execute_result"
        }
      ],
      "source": [
        "q[-1] # get the last element of x"
      ]
    },
    {
      "cell_type": "code",
      "execution_count": 41,
      "metadata": {
        "colab": {
          "base_uri": "https://localhost:8080/"
        },
        "id": "VVU6R0sI2lTX",
        "outputId": "44bf5cff-048f-42da-ff2e-51d79573bc4a"
      },
      "outputs": [
        {
          "data": {
            "text/plain": [
              "array([[1, 4, 3],\n",
              "       [9, 2, 7]])"
            ]
          },
          "execution_count": 41,
          "metadata": {},
          "output_type": "execute_result"
        }
      ],
      "source": [
        "y"
      ]
    },
    {
      "cell_type": "code",
      "execution_count": 42,
      "metadata": {
        "colab": {
          "base_uri": "https://localhost:8080/"
        },
        "id": "HXQuVh4G2DYa",
        "outputId": "552f09ac-26f3-4d23-85ab-3fdcd3eea07c"
      },
      "outputs": [
        {
          "data": {
            "text/plain": [
              "array([1, 4, 3])"
            ]
          },
          "execution_count": 42,
          "metadata": {},
          "output_type": "execute_result"
        }
      ],
      "source": [
        "y[0, :] # Get the second row of array y."
      ]
    },
    {
      "cell_type": "code",
      "execution_count": 43,
      "metadata": {
        "colab": {
          "base_uri": "https://localhost:8080/"
        },
        "id": "vMXKX5N18KSO",
        "outputId": "95c5e105-82ef-407d-e4e1-aa600ab2aa7e"
      },
      "outputs": [
        {
          "data": {
            "text/plain": [
              "array([4, 2])"
            ]
          },
          "execution_count": 43,
          "metadata": {},
          "output_type": "execute_result"
        }
      ],
      "source": [
        "y[:,1]"
      ]
    },
    {
      "cell_type": "code",
      "execution_count": 44,
      "metadata": {
        "colab": {
          "base_uri": "https://localhost:8080/"
        },
        "id": "xNsgn2XP2YMh",
        "outputId": "dc058bff-ae44-43b3-c623-0ef068d9dbce"
      },
      "outputs": [
        {
          "data": {
            "text/plain": [
              "array([3, 7])"
            ]
          },
          "execution_count": 44,
          "metadata": {},
          "output_type": "execute_result"
        }
      ],
      "source": [
        "y[:, -1] # Get the last column of array y."
      ]
    },
    {
      "cell_type": "code",
      "execution_count": 45,
      "metadata": {
        "colab": {
          "base_uri": "https://localhost:8080/"
        },
        "id": "cuV8Zus-sWlQ",
        "outputId": "9d9e7865-ba28-4e45-f365-d99ee580cfbe"
      },
      "outputs": [
        {
          "data": {
            "text/plain": [
              "array([4, 2])"
            ]
          },
          "execution_count": 45,
          "metadata": {},
          "output_type": "execute_result"
        }
      ],
      "source": [
        "y[:,1]"
      ]
    },
    {
      "cell_type": "code",
      "execution_count": 46,
      "metadata": {
        "id": "JTxhQ_eq2f8V"
      },
      "outputs": [
        {
          "data": {
            "text/plain": [
              "array([4, 2])"
            ]
          },
          "execution_count": 46,
          "metadata": {},
          "output_type": "execute_result"
        }
      ],
      "source": [
        "y[:, 1] # Get the second column of array y."
      ]
    },
    {
      "cell_type": "code",
      "execution_count": 47,
      "metadata": {
        "colab": {
          "base_uri": "https://localhost:8080/"
        },
        "id": "NIh11M482wHp",
        "outputId": "3786950a-bee7-42cc-d1bb-3aa2f9be5f9f"
      },
      "outputs": [
        {
          "data": {
            "text/plain": [
              "array([[1, 3],\n",
              "       [9, 7]])"
            ]
          },
          "execution_count": 47,
          "metadata": {},
          "output_type": "execute_result"
        }
      ],
      "source": [
        "y[:, [0, 2]]  #Get the first and third column of array y"
      ]
    },
    {
      "cell_type": "code",
      "execution_count": 48,
      "metadata": {
        "colab": {
          "base_uri": "https://localhost:8080/"
        },
        "id": "GH-9ohgJ271V",
        "outputId": "7f7c10e2-690d-48c2-ba3d-f61724ae6094"
      },
      "outputs": [
        {
          "data": {
            "text/plain": [
              "array([[0., 0., 0., 0., 0.],\n",
              "       [0., 0., 0., 0., 0.],\n",
              "       [0., 0., 0., 0., 0.]])"
            ]
          },
          "execution_count": 48,
          "metadata": {},
          "output_type": "execute_result"
        }
      ],
      "source": [
        "np.zeros((3, 5)) # Generate a 3 by 5 array with all the as 0.\n"
      ]
    },
    {
      "cell_type": "code",
      "execution_count": 49,
      "metadata": {
        "colab": {
          "base_uri": "https://localhost:8080/"
        },
        "id": "aw7AQPJO2dVJ",
        "outputId": "8cb0ba83-3ffb-4651-cc3d-6d115e8cc1e0"
      },
      "outputs": [
        {
          "data": {
            "text/plain": [
              "array([[1., 1., 1.],\n",
              "       [1., 1., 1.],\n",
              "       [1., 1., 1.],\n",
              "       [1., 1., 1.],\n",
              "       [1., 1., 1.]])"
            ]
          },
          "execution_count": 49,
          "metadata": {},
          "output_type": "execute_result"
        }
      ],
      "source": [
        "np.ones((5, 3)) #Generate a 5 by 3 array with all the element as 1"
      ]
    },
    {
      "cell_type": "markdown",
      "metadata": {
        "id": "MCQQeYa93YNw"
      },
      "source": [
        "### Excercise :\n",
        "Make array\n",
        "\n",
        "$$\n",
        "  a = \\begin{pmatrix}  \n",
        "      1&2&3&4&5&6\n",
        "      \\end{pmatrix}\n",
        "$$\n",
        "\n"
      ]
    },
    {
      "cell_type": "code",
      "execution_count": 60,
      "metadata": {
        "colab": {
          "base_uri": "https://localhost:8080/"
        },
        "id": "MkdiAw2k4fYD",
        "outputId": "6cd760fe-aef9-4126-f1f4-e212c2dd9931"
      },
      "outputs": [
        {
          "data": {
            "text/plain": [
              "array([1, 2, 3, 4, 5, 6])"
            ]
          },
          "execution_count": 60,
          "metadata": {},
          "output_type": "execute_result"
        }
      ],
      "source": [
        "import numpy as np\n",
        "a = np.array([1,2,3,4,5,6])\n",
        "a"
      ]
    },
    {
      "cell_type": "code",
      "execution_count": 51,
      "metadata": {
        "colab": {
          "base_uri": "https://localhost:8080/"
        },
        "id": "FnleWzW_4pnN",
        "outputId": "8af620dc-c502-4d24-e6f8-91b86b9b684d"
      },
      "outputs": [
        {
          "data": {
            "text/plain": [
              "array([3, 4, 5])"
            ]
          },
          "execution_count": 51,
          "metadata": {},
          "output_type": "execute_result"
        }
      ],
      "source": [
        "a = np.arange(3, 6)\n",
        "a"
      ]
    },
    {
      "cell_type": "code",
      "execution_count": 61,
      "metadata": {
        "colab": {
          "base_uri": "https://localhost:8080/"
        },
        "id": "CC1tVsi6477N",
        "outputId": "777d9a42-574c-4d1e-e854-4999538c3d82"
      },
      "outputs": [
        {
          "data": {
            "text/plain": [
              "array([1, 2, 3, 7, 5, 6])"
            ]
          },
          "execution_count": 61,
          "metadata": {},
          "output_type": "execute_result"
        }
      ],
      "source": [
        "a[3] = 7 # reassign the fourth element of a to 7\n",
        "a"
      ]
    },
    {
      "cell_type": "code",
      "execution_count": 62,
      "metadata": {
        "colab": {
          "base_uri": "https://localhost:8080/"
        },
        "id": "u1glQBDd5KvI",
        "outputId": "5bc0f059-a1a8-4a72-a985-4121e017c408"
      },
      "outputs": [
        {
          "data": {
            "text/plain": [
              "array([1, 1, 1, 7, 5, 6])"
            ]
          },
          "execution_count": 62,
          "metadata": {},
          "output_type": "execute_result"
        }
      ],
      "source": [
        "a[:3] = 1 # reassign the first, second, and thrid elements to 1\n",
        "a"
      ]
    },
    {
      "cell_type": "code",
      "execution_count": 63,
      "metadata": {
        "colab": {
          "base_uri": "https://localhost:8080/"
        },
        "id": "muH18RE75lrG",
        "outputId": "1e3ed47d-ba7d-4994-8472-a3239db12a5a"
      },
      "outputs": [
        {
          "data": {
            "text/plain": [
              "array([1, 1, 5, 5, 5, 5])"
            ]
          },
          "execution_count": 63,
          "metadata": {},
          "output_type": "execute_result"
        }
      ],
      "source": [
        "a[2:] = 5\n",
        "a"
      ]
    },
    {
      "cell_type": "code",
      "execution_count": 64,
      "metadata": {
        "colab": {
          "base_uri": "https://localhost:8080/"
        },
        "id": "tqhOOvcI-Zde",
        "outputId": "c8dc7921-cc9d-4355-c56c-09673685f344"
      },
      "outputs": [
        {
          "data": {
            "text/plain": [
              "array([1, 1, 5, 5, 5, 5])"
            ]
          },
          "execution_count": 64,
          "metadata": {},
          "output_type": "execute_result"
        }
      ],
      "source": [
        "a"
      ]
    },
    {
      "cell_type": "code",
      "execution_count": 65,
      "metadata": {
        "colab": {
          "base_uri": "https://localhost:8080/"
        },
        "id": "6yNsLVhO638P",
        "outputId": "e3f09c33-1745-4298-fbb7-e0f90997f956"
      },
      "outputs": [
        {
          "data": {
            "text/plain": [
              "array([ 1,  9,  8,  7, 10,  5])"
            ]
          },
          "execution_count": 65,
          "metadata": {},
          "output_type": "execute_result"
        }
      ],
      "source": [
        "a[1:5] = [9, 8, 7,10] #Reassign the second, third, and fourth elements to 9, 8, and 7.\n",
        "a"
      ]
    },
    {
      "cell_type": "markdown",
      "metadata": {
        "id": "hWdPFn6h7w3q"
      },
      "source": [
        "#### Operational pada Matrix\n",
        "\n",
        "$$\n",
        "  A = \\begin{pmatrix}\n",
        "      2&-4\\\\\n",
        "      -2&10       \n",
        "      \\end{pmatrix}\n",
        "$$\n",
        "\n",
        "$$\n",
        "  B = \\begin{pmatrix}\n",
        "  1&2\\\\\n",
        "  3&4\n",
        "  \\end{pmatrix}\n",
        "$$"
      ]
    },
    {
      "cell_type": "code",
      "execution_count": 67,
      "metadata": {
        "colab": {
          "base_uri": "https://localhost:8080/"
        },
        "id": "PKC7cQfY9b7p",
        "outputId": "66171496-dd40-46ee-9baa-ce8034723486"
      },
      "outputs": [
        {
          "data": {
            "text/plain": [
              "array([[ 2, -4],\n",
              "       [-2, 10]])"
            ]
          },
          "execution_count": 67,
          "metadata": {},
          "output_type": "execute_result"
        }
      ],
      "source": [
        "A = np.array([[2,-4],[-2,10]])\n",
        "A\n"
      ]
    },
    {
      "cell_type": "code",
      "execution_count": 68,
      "metadata": {
        "colab": {
          "base_uri": "https://localhost:8080/"
        },
        "id": "_DJldseeGG4b",
        "outputId": "dee97b29-ce06-4b89-9c06-4e8a66ee4a83"
      },
      "outputs": [
        {
          "data": {
            "text/plain": [
              "array([[1, 2],\n",
              "       [3, 4]])"
            ]
          },
          "execution_count": 68,
          "metadata": {},
          "output_type": "execute_result"
        }
      ],
      "source": [
        "B = np.array([[1,2],[3,4]])\n",
        "B"
      ]
    },
    {
      "cell_type": "code",
      "execution_count": 69,
      "metadata": {
        "colab": {
          "base_uri": "https://localhost:8080/"
        },
        "id": "CcQvCwjbGdBk",
        "outputId": "af26fd72-8617-4852-a19f-4b5da6a5b02e"
      },
      "outputs": [
        {
          "data": {
            "text/plain": [
              "array([[ 2, -8],\n",
              "       [-6, 40]])"
            ]
          },
          "execution_count": 69,
          "metadata": {},
          "output_type": "execute_result"
        }
      ],
      "source": [
        "C = A*B\n",
        "C"
      ]
    },
    {
      "cell_type": "code",
      "execution_count": 70,
      "metadata": {
        "colab": {
          "base_uri": "https://localhost:8080/"
        },
        "id": "_psEjg5cGr5X",
        "outputId": "76c7251e-e9f6-4db5-a2a8-8764e579a4a6"
      },
      "outputs": [
        {
          "data": {
            "text/plain": [
              "array([[ 1, -6],\n",
              "       [-5,  6]])"
            ]
          },
          "execution_count": 70,
          "metadata": {},
          "output_type": "execute_result"
        }
      ],
      "source": [
        "C = A-B\n",
        "C"
      ]
    },
    {
      "cell_type": "code",
      "execution_count": 71,
      "metadata": {
        "colab": {
          "base_uri": "https://localhost:8080/"
        },
        "id": "_mNDxKss_Uin",
        "outputId": "de8d70cb-5000-4863-88eb-b495c2042565"
      },
      "outputs": [
        {
          "data": {
            "text/plain": [
              "array([[ 2, -4],\n",
              "       [-2, 10]])"
            ]
          },
          "execution_count": 71,
          "metadata": {},
          "output_type": "execute_result"
        }
      ],
      "source": [
        "A"
      ]
    },
    {
      "cell_type": "code",
      "execution_count": 72,
      "metadata": {
        "colab": {
          "base_uri": "https://localhost:8080/"
        },
        "id": "J6EKxuiK_NnZ",
        "outputId": "aca744db-79fe-4c23-cd8e-b9e7078f8b82"
      },
      "outputs": [
        {
          "data": {
            "text/plain": [
              "array([[  4,  16],\n",
              "       [  4, 100]])"
            ]
          },
          "execution_count": 72,
          "metadata": {},
          "output_type": "execute_result"
        }
      ],
      "source": [
        "D = A**2\n",
        "D"
      ]
    },
    {
      "cell_type": "code",
      "execution_count": 73,
      "metadata": {
        "colab": {
          "base_uri": "https://localhost:8080/"
        },
        "id": "1-FWfeBP_f9g",
        "outputId": "f3882113-cd92-40ec-abbf-53034a1bf292"
      },
      "outputs": [
        {
          "data": {
            "text/plain": [
              "array([[    2,    16],\n",
              "       [   -8, 10000]])"
            ]
          },
          "execution_count": 73,
          "metadata": {},
          "output_type": "execute_result"
        }
      ],
      "source": [
        "E = A**B\n",
        "E"
      ]
    },
    {
      "cell_type": "code",
      "execution_count": 74,
      "metadata": {
        "colab": {
          "base_uri": "https://localhost:8080/"
        },
        "id": "MRkWAGp8GxG-",
        "outputId": "d89465cc-faf2-4b00-9587-66438c764444"
      },
      "outputs": [
        {
          "data": {
            "text/plain": [
              "array([[ 2, -8],\n",
              "       [-6, 40]])"
            ]
          },
          "execution_count": 74,
          "metadata": {},
          "output_type": "execute_result"
        }
      ],
      "source": [
        "C = A*B\n",
        "C"
      ]
    },
    {
      "cell_type": "code",
      "execution_count": 75,
      "metadata": {
        "colab": {
          "base_uri": "https://localhost:8080/"
        },
        "id": "nEQY6WA8G9ve",
        "outputId": "5708269d-078d-4cbe-a644-fd3abbdbe119"
      },
      "outputs": [
        {
          "data": {
            "text/plain": [
              "array([[ 2, -8],\n",
              "       [-6, 40]])"
            ]
          },
          "execution_count": 75,
          "metadata": {},
          "output_type": "execute_result"
        }
      ],
      "source": [
        "C = A*B\n",
        "C"
      ]
    },
    {
      "cell_type": "code",
      "execution_count": 76,
      "metadata": {
        "colab": {
          "base_uri": "https://localhost:8080/"
        },
        "id": "Pp8P5P5y9y6s",
        "outputId": "59f6dfef-a114-4bb3-90f5-4638f1f56b39"
      },
      "outputs": [
        {
          "data": {
            "text/plain": [
              "array([[ 4, -2],\n",
              "       [ 0, 12]])"
            ]
          },
          "execution_count": 76,
          "metadata": {},
          "output_type": "execute_result"
        }
      ],
      "source": [
        "A+2"
      ]
    },
    {
      "cell_type": "code",
      "execution_count": 77,
      "metadata": {
        "colab": {
          "base_uri": "https://localhost:8080/"
        },
        "id": "fqKBp9h892oK",
        "outputId": "bd6615f7-02df-4510-90d9-4307d270617b"
      },
      "outputs": [
        {
          "data": {
            "text/plain": [
              "array([[  4,  16],\n",
              "       [  4, 100]])"
            ]
          },
          "execution_count": 77,
          "metadata": {},
          "output_type": "execute_result"
        }
      ],
      "source": [
        "A**2"
      ]
    },
    {
      "cell_type": "code",
      "execution_count": 78,
      "metadata": {
        "colab": {
          "base_uri": "https://localhost:8080/"
        },
        "id": "yNOoecHI96mE",
        "outputId": "f206d00e-aba7-42f1-b9f0-6c7705a18197"
      },
      "outputs": [
        {
          "data": {
            "text/plain": [
              "array([[ 1., -2.],\n",
              "       [-1.,  5.]])"
            ]
          },
          "execution_count": 78,
          "metadata": {},
          "output_type": "execute_result"
        }
      ],
      "source": [
        "A/2"
      ]
    },
    {
      "cell_type": "markdown",
      "metadata": {
        "id": "nlDRHVFgHtli"
      },
      "source": [
        "## Multiplication in NumPy\n"
      ]
    },
    {
      "cell_type": "code",
      "execution_count": 79,
      "metadata": {
        "colab": {
          "base_uri": "https://localhost:8080/"
        },
        "id": "XITRjvusIqcz",
        "outputId": "5a403e6f-6625-4a9c-e5ec-3f483ef3eaf1"
      },
      "outputs": [
        {
          "name": "stdout",
          "output_type": "stream",
          "text": [
            "Matrix A is:\n",
            " [[1 2 3]\n",
            " [4 5 6]]\n",
            "Matrix A is:\n",
            " [[1 1 1]\n",
            " [0 1 0]\n",
            " [1 1 1]]\n",
            "Matrix multiplication of matrix A and B is:\n",
            " [[ 4  6  4]\n",
            " [10 15 10]]\n",
            "Matrix multiplication of matrix A and B is:\n",
            " [[ 4  6  4]\n",
            " [10 15 10]]\n"
          ]
        }
      ],
      "source": [
        "import numpy as np\n",
        "A = np.array([[1,2,3], [4,5,6]])\n",
        "B = np.array([[1,1,1], [0,1,0], [1,1,1]])\n",
        "print(\"Matrix A is:\\n\",A)\n",
        "print(\"Matrix A is:\\n\",B)\n",
        "C = np.matmul(A,B)\n",
        "print(\"Matrix multiplication of matrix A and B is:\\n\",C)\n",
        "D = np.dot(A,B)\n",
        "print(\"Matrix multiplication of matrix A and B is:\\n\",D)"
      ]
    },
    {
      "cell_type": "code",
      "execution_count": 82,
      "metadata": {
        "colab": {
          "base_uri": "https://localhost:8080/"
        },
        "id": "r65rYXJzA7kt",
        "outputId": "13e81d5d-dbc7-4567-a913-18e0bd32c4fa"
      },
      "outputs": [
        {
          "data": {
            "text/plain": [
              "array([[1, 2, 3],\n",
              "       [4, 5, 6]])"
            ]
          },
          "execution_count": 82,
          "metadata": {},
          "output_type": "execute_result"
        }
      ],
      "source": [
        "A"
      ]
    },
    {
      "cell_type": "code",
      "execution_count": 81,
      "metadata": {
        "colab": {
          "base_uri": "https://localhost:8080/",
          "height": 158
        },
        "id": "7vnjrPkMAtxA",
        "outputId": "5c6debeb-594b-4c8d-b673-48e5efc2d919"
      },
      "outputs": [
        {
          "ename": "ValueError",
          "evalue": "operands could not be broadcast together with shapes (2,3) (3,3) ",
          "output_type": "error",
          "traceback": [
            "\u001b[0;31m---------------------------------------------------------------------------\u001b[0m",
            "\u001b[0;31mValueError\u001b[0m                                Traceback (most recent call last)",
            "Cell \u001b[0;32mIn[81], line 1\u001b[0m\n\u001b[0;32m----> 1\u001b[0m E \u001b[38;5;241m=\u001b[39m \u001b[43mA\u001b[49m\u001b[38;5;241;43m*\u001b[39;49m\u001b[43mB\u001b[49m\n\u001b[1;32m      2\u001b[0m E\n",
            "\u001b[0;31mValueError\u001b[0m: operands could not be broadcast together with shapes (2,3) (3,3) "
          ]
        }
      ],
      "source": [
        "E = A*B\n",
        "E"
      ]
    },
    {
      "cell_type": "markdown",
      "metadata": {
        "id": "wzDGuLPNK8RV"
      },
      "source": [
        "## Function\n",
        "\n",
        "def function_name(argument_1, argument_2, ...):\n",
        "    '''\n",
        "    Descriptive String\n",
        "    '''\n",
        "    # comments about the statements\n",
        "    function_statements\n",
        "    \n",
        "    return output_parameters (optional)\n",
        "\n"
      ]
    },
    {
      "cell_type": "code",
      "execution_count": 83,
      "metadata": {
        "colab": {
          "base_uri": "https://localhost:8080/"
        },
        "id": "WZGsQRDtuyJr",
        "outputId": "360b3b01-b417-4721-c1ff-ae8ee96a3b9a"
      },
      "outputs": [
        {
          "name": "stdout",
          "output_type": "stream",
          "text": [
            "11\n"
          ]
        }
      ],
      "source": [
        "def tambah(a,b):\n",
        "  return a+b\n",
        "\n",
        "a = 5\n",
        "b = 6\n",
        "c = tambah(a,b)\n",
        "print (c)"
      ]
    },
    {
      "cell_type": "code",
      "execution_count": 84,
      "metadata": {
        "colab": {
          "base_uri": "https://localhost:8080/"
        },
        "id": "5C_hnrDILSwq",
        "outputId": "2de3a1c0-70df-4b04-a212-bc75eee707ca"
      },
      "outputs": [
        {
          "name": "stdout",
          "output_type": "stream",
          "text": [
            "5 + 6 = 11\n",
            "5 - 6 = -1\n",
            "5 * 6 = 30\n"
          ]
        }
      ],
      "source": [
        "def fungsi1(a,b) :\n",
        "  return a+b, a-b, a*b\n",
        "\n",
        "a1 = 5\n",
        "a2 = 6\n",
        "b1,b2,b3 = fungsi1(a1,a2)\n",
        "print (\"%d + %d = %d\" %(a1,a2,b1) )\n",
        "print (\"%d - %d = %d\" %(a1,a2,b2) )\n",
        "print (\"%d * %d = %d\" %(a1,a2,b3) )"
      ]
    },
    {
      "cell_type": "code",
      "execution_count": 85,
      "metadata": {
        "colab": {
          "base_uri": "https://localhost:8080/"
        },
        "id": "0nRCvPPpN2dX",
        "outputId": "7d4eb3fe-70df-47bd-84ef-1919649e3c4d"
      },
      "outputs": [
        {
          "name": "stdout",
          "output_type": "stream",
          "text": [
            "c =-0.0806950697747637, d=-0.2750268284872752, e=[-0.0806950697747637, -0.2750268284872752]\n"
          ]
        }
      ],
      "source": [
        "def my_trig_sum(a, b):\n",
        "    \"\"\"\n",
        "    function to demo return multiple\n",
        "    author\n",
        "    date\n",
        "    \"\"\"\n",
        "    out1 = np.sin(a) + np.cos(b)\n",
        "    out2 = np.sin(b) + np.cos(a)\n",
        "    return out1, out2, [out1, out2]\n",
        "\n",
        "c, d, e = my_trig_sum(2, 3)\n",
        "print(f\"c ={c}, d={d}, e={e}\")"
      ]
    },
    {
      "cell_type": "markdown",
      "metadata": {
        "id": "51ZM2zMVONgX"
      },
      "source": [
        "### Nested function"
      ]
    },
    {
      "cell_type": "code",
      "execution_count": 86,
      "metadata": {
        "colab": {
          "base_uri": "https://localhost:8080/"
        },
        "id": "O8kzTf6GOQrG",
        "outputId": "b543f12b-b422-48aa-e387-4743bbc47f22"
      },
      "outputs": [
        {
          "name": "stdout",
          "output_type": "stream",
          "text": [
            "[1.0, 1.4142135623730951, 1.0]\n"
          ]
        }
      ],
      "source": [
        "import numpy as np\n",
        "\n",
        "def my_dist_xyz(x, y, z):\n",
        "    \"\"\"\n",
        "    x, y, z are 2D coordinates contained in a tuple\n",
        "    output:\n",
        "    d - list, where\n",
        "        d[0] is the distance between x and y\n",
        "        d[1] is the distance between x and z\n",
        "        d[2] is the distance between y and z\n",
        "    \"\"\"\n",
        "\n",
        "    def my_dist(x, y):\n",
        "        \"\"\"\n",
        "        subfunction for my_dist_xyz\n",
        "        Output is the distance between x and y,\n",
        "        computed using the distance formula\n",
        "        \"\"\"\n",
        "        out = np.sqrt((x[0]-y[0])**2+(x[1]-y[1])**2)\n",
        "        return out\n",
        "\n",
        "    d0 = my_dist(x, y)\n",
        "    d1 = my_dist(x, z)\n",
        "    d2 = my_dist(y, z)\n",
        "\n",
        "    return [d0, d1, d2]\n",
        "\n",
        "\n",
        "d = my_dist_xyz((0, 0), (0, 1), (1, 1))\n",
        "print(d)\n"
      ]
    },
    {
      "cell_type": "markdown",
      "metadata": {
        "id": "SZhbVSqPOxmA"
      },
      "source": [
        "# Lambda Functions\n",
        "\n",
        "   - function is just one line\n",
        "   - a function that is defined without a name\n",
        "\n",
        "   ***lambda arguments: expression***"
      ]
    },
    {
      "cell_type": "code",
      "execution_count": 87,
      "metadata": {
        "colab": {
          "base_uri": "https://localhost:8080/"
        },
        "id": "R-ipI2M6OmgM",
        "outputId": "6a758058-94b4-4bfa-ae32-76cb1a539079"
      },
      "outputs": [
        {
          "name": "stdout",
          "output_type": "stream",
          "text": [
            "4\n",
            "25\n"
          ]
        }
      ],
      "source": [
        "square = lambda x: x**2\n",
        "\n",
        "print(square(2))\n",
        "print(square(5))"
      ]
    },
    {
      "cell_type": "code",
      "execution_count": 88,
      "metadata": {
        "colab": {
          "base_uri": "https://localhost:8080/"
        },
        "id": "DComYpN5Pbaw",
        "outputId": "45239723-f5fc-43f1-d59d-1af60f26cbc7"
      },
      "outputs": [
        {
          "name": "stdout",
          "output_type": "stream",
          "text": [
            "6\n"
          ]
        }
      ],
      "source": [
        "my_adder = lambda x, y: x + y\n",
        "\n",
        "print(my_adder(2, 4))"
      ]
    },
    {
      "cell_type": "code",
      "execution_count": 89,
      "metadata": {
        "colab": {
          "base_uri": "https://localhost:8080/"
        },
        "id": "mn5qAtw5PhM7",
        "outputId": "1310ee3e-a3dc-4e4a-a292-54b8afa8ea50"
      },
      "outputs": [
        {
          "data": {
            "text/plain": [
              "[(2, 0, 2), (1, 2, 4), (4, 1, 5)]"
            ]
          },
          "execution_count": 89,
          "metadata": {},
          "output_type": "execute_result"
        }
      ],
      "source": [
        "sorted([(1, 2, 4), (2, 0, 2), (4, 1, 5)], key=lambda x: x[2])  # Sort [(1, 2, 4), (2, 0, 2), (4, 1, 5)] based on the 3nd item in the tuple"
      ]
    },
    {
      "cell_type": "code",
      "execution_count": 90,
      "metadata": {
        "colab": {
          "base_uri": "https://localhost:8080/"
        },
        "id": "2ymthanKDGHY",
        "outputId": "6fe0f94f-3e74-46b5-f902-611634dfd311"
      },
      "outputs": [
        {
          "data": {
            "text/plain": [
              "[(2, 0, 2), (4, 1, 5), (1, 2, 4)]"
            ]
          },
          "execution_count": 90,
          "metadata": {},
          "output_type": "execute_result"
        }
      ],
      "source": [
        "sorted([(1, 2, 4), (2, 0, 2), (4, 1, 5)], key=lambda x: x[1])"
      ]
    },
    {
      "cell_type": "markdown",
      "metadata": {
        "id": "B-KjP-ivcOZf"
      },
      "source": [
        "$$\n",
        "    f(x,y,z) = x^y - z\n",
        "$$"
      ]
    },
    {
      "cell_type": "code",
      "execution_count": 103,
      "metadata": {
        "id": "8o6BscT7cEAq"
      },
      "outputs": [],
      "source": [
        "fn = lambda x,y,z: x**y - z\n",
        "\n"
      ]
    },
    {
      "cell_type": "code",
      "execution_count": 104,
      "metadata": {
        "colab": {
          "base_uri": "https://localhost:8080/"
        },
        "id": "1Xs3mPn3dyUD",
        "outputId": "1fbe0106-7d85-4193-9530-3c01e5909665"
      },
      "outputs": [
        {
          "name": "stdout",
          "output_type": "stream",
          "text": [
            "2^3 - 6 = 2\n"
          ]
        }
      ],
      "source": [
        "print (\"%d^%d - %d = %d\" %(2,3,6,fn(2,3,6)))"
      ]
    },
    {
      "cell_type": "markdown",
      "metadata": {
        "id": "z29BnvYxQXVw"
      },
      "source": [
        "### Functions as Arguments to Functions"
      ]
    },
    {
      "cell_type": "code",
      "execution_count": 93,
      "metadata": {
        "colab": {
          "base_uri": "https://localhost:8080/"
        },
        "id": "avTc0tQjQUgk",
        "outputId": "5699ef8c-14e8-4d77-a60e-32f00a31a32a"
      },
      "outputs": [
        {
          "name": "stdout",
          "output_type": "stream",
          "text": [
            "2.0\n",
            "1.0\n",
            "6.0\n"
          ]
        }
      ],
      "source": [
        "import numpy as np\n",
        "\n",
        "def my_fun_plus_one(f, x):\n",
        "    return f(x) + 1\n",
        "\n",
        "print(my_fun_plus_one(np.sin, np.pi/2))\n",
        "print(my_fun_plus_one(np.cos, np.pi/2))\n",
        "print(my_fun_plus_one(np.sqrt, 25))"
      ]
    },
    {
      "cell_type": "markdown",
      "metadata": {
        "id": "oeC4TjsLeR2Y"
      },
      "source": [
        "## Branching Statements"
      ]
    },
    {
      "cell_type": "code",
      "execution_count": 94,
      "metadata": {
        "colab": {
          "base_uri": "https://localhost:8080/"
        },
        "id": "Q1zO6Ds0eetf",
        "outputId": "c822e28d-a591-468d-cef1-185f7110ff2c"
      },
      "outputs": [
        {
          "name": "stdout",
          "output_type": "stream",
          "text": [
            "Nilai 81.50 = LULUS\n"
          ]
        }
      ],
      "source": [
        "def assesment(score):\n",
        "  if score >= 80:\n",
        "    return \"LULUS\"\n",
        "  else:\n",
        "    return \"GAGAL\"\n",
        "\n",
        "nilai1 = 81.5\n",
        "print (\"Nilai %.2f = %s\" %(nilai1, assesment(nilai1)))"
      ]
    },
    {
      "cell_type": "markdown",
      "metadata": {
        "id": "jFu2VzBsgLSF"
      },
      "source": [
        "## Ternary Operators\n",
        "\n",
        "***expression_if_true if condition else expression_if_false***"
      ]
    },
    {
      "cell_type": "code",
      "execution_count": 95,
      "metadata": {
        "colab": {
          "base_uri": "https://localhost:8080/"
        },
        "id": "wPqluwKAgT6b",
        "outputId": "627e6905-eaff-42c0-bd6e-ca37d8bad667"
      },
      "outputs": [
        {
          "name": "stdout",
          "output_type": "stream",
          "text": [
            "not student\n"
          ]
        }
      ],
      "source": [
        "is_student = False\n",
        "person = 'student' if is_student else 'not student'\n",
        "print(person)"
      ]
    },
    {
      "cell_type": "code",
      "execution_count": 96,
      "metadata": {
        "colab": {
          "base_uri": "https://localhost:8080/"
        },
        "id": "heAuD3i1ga4i",
        "outputId": "d7077746-58e7-4847-9eb4-a6e93474d5d1"
      },
      "outputs": [
        {
          "name": "stdout",
          "output_type": "stream",
          "text": [
            "karena 10 > 3 maka hasil hitungnya 10\n",
            "karena 10 > 3 maka hasil hitungnya 1000\n"
          ]
        }
      ],
      "source": [
        "hitung1 = lambda x, y : x**y\n",
        "hitung2 = lambda x, y : y**x\n",
        "hasil1 = lambda x, y : x if x > y else y\n",
        "x = 10\n",
        "y = 3\n",
        "hasil2 = lambda x,y : hitung1(x,y) if x > y else hitung2(x,y)\n",
        "print (\"karena %d > %d maka hasil hitungnya %d\" %(x, y, hasil1(x,y)))\n",
        "print (\"karena %d > %d maka hasil hitungnya %d\" %(x, y, hasil2(x,y)))"
      ]
    },
    {
      "cell_type": "markdown",
      "metadata": {
        "id": "1QVsbCtjjbI9"
      },
      "source": [
        "## Iteration"
      ]
    },
    {
      "cell_type": "code",
      "execution_count": 97,
      "metadata": {
        "colab": {
          "base_uri": "https://localhost:8080/"
        },
        "id": "rVdKEinPjjsG",
        "outputId": "6d506be4-c1f9-4309-d7f6-5a842396c250"
      },
      "outputs": [
        {
          "name": "stdout",
          "output_type": "stream",
          "text": [
            "1\n",
            "2\n",
            "3\n",
            "4\n",
            "5\n",
            "6\n",
            "7\n",
            "8\n",
            "9\n"
          ]
        }
      ],
      "source": [
        "n = 0\n",
        "for i in range(1, 10, 1):\n",
        "    print(i)\n",
        "    # n = n + i\n",
        "\n",
        "# print(n)"
      ]
    },
    {
      "cell_type": "code",
      "execution_count": 98,
      "metadata": {
        "colab": {
          "base_uri": "https://localhost:8080/"
        },
        "id": "BbXmnLrEjuk7",
        "outputId": "56071a91-a0a6-4aaf-fedc-76af53f792c5"
      },
      "outputs": [
        {
          "name": "stdout",
          "output_type": "stream",
          "text": [
            "n = 0.5, i = 4\n"
          ]
        }
      ],
      "source": [
        "i = 0\n",
        "n = 8\n",
        "\n",
        "while n >= 1:\n",
        "    n /= 2\n",
        "    i += 1\n",
        "\n",
        "print(f'n = {n}, i = {i}')"
      ]
    },
    {
      "cell_type": "markdown",
      "metadata": {
        "id": "31WjV2fKj8jo"
      },
      "source": [
        "## Comprehensions\n",
        "\n",
        "***[Output Input_sequence Conditions]***"
      ]
    },
    {
      "cell_type": "code",
      "execution_count": 99,
      "metadata": {
        "colab": {
          "base_uri": "https://localhost:8080/"
        },
        "id": "wkSkcO1tkFrc",
        "outputId": "36d8464b-4386-4a53-fd78-951aafd51cd0"
      },
      "outputs": [
        {
          "name": "stdout",
          "output_type": "stream",
          "text": [
            "[0, 1, 4, 9, 16]\n"
          ]
        }
      ],
      "source": [
        "x = range(5)\n",
        "y = []\n",
        "\n",
        "for i in x:\n",
        "    y.append(i**2)\n",
        "print(y)\n"
      ]
    },
    {
      "cell_type": "code",
      "execution_count": 100,
      "metadata": {
        "colab": {
          "base_uri": "https://localhost:8080/"
        },
        "id": "lX6LsxYzkOHL",
        "outputId": "36a4cf0d-ee70-4f8d-cc0b-234e33816d5f"
      },
      "outputs": [
        {
          "name": "stdout",
          "output_type": "stream",
          "text": [
            "[0, 1, 4, 9, 16]\n"
          ]
        }
      ],
      "source": [
        "y = [i**2 for i in x]\n",
        "print(y)"
      ]
    },
    {
      "cell_type": "code",
      "execution_count": 101,
      "metadata": {
        "colab": {
          "base_uri": "https://localhost:8080/"
        },
        "id": "rwS06bzckVbL",
        "outputId": "6721ae91-4a53-4cff-8392-e47339df0f92"
      },
      "outputs": [
        {
          "name": "stdout",
          "output_type": "stream",
          "text": [
            "[0, 4, 16]\n"
          ]
        }
      ],
      "source": [
        "y = [i**2 for i in x if i%2 == 0]\n",
        "print(y)"
      ]
    },
    {
      "cell_type": "code",
      "execution_count": 102,
      "metadata": {
        "colab": {
          "base_uri": "https://localhost:8080/"
        },
        "id": "qW4LQWUTkZNe",
        "outputId": "77c1ea5b-11c0-4e08-e749-b03b3c0808e1"
      },
      "outputs": [
        {
          "name": "stdout",
          "output_type": "stream",
          "text": [
            "[0, 1, 1, 2, 2, 3, 3, 4, 4, 5]\n"
          ]
        }
      ],
      "source": [
        "y = [i + j for i in range(5) for j in range(2)]\n",
        "print(y)"
      ]
    }
  ],
  "metadata": {
    "colab": {
      "provenance": []
    },
    "kernelspec": {
      "display_name": "Python 3",
      "name": "python3"
    },
    "language_info": {
      "codemirror_mode": {
        "name": "ipython",
        "version": 3
      },
      "file_extension": ".py",
      "mimetype": "text/x-python",
      "name": "python",
      "nbconvert_exporter": "python",
      "pygments_lexer": "ipython3",
      "version": "3.12.3"
    }
  },
  "nbformat": 4,
  "nbformat_minor": 0
}
