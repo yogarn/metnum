{
 "cells": [
  {
   "cell_type": "markdown",
   "metadata": {},
   "source": [
    "## Matrix Inverse Method"
   ]
  },
  {
   "cell_type": "code",
   "execution_count": 1,
   "metadata": {},
   "outputs": [],
   "source": [
    "import numpy as np\n",
    "\n",
    "def find_sol_inverse(A, b):\n",
    "    return np.linalg.inv(A).dot(b)"
   ]
  },
  {
   "cell_type": "code",
   "execution_count": 2,
   "metadata": {},
   "outputs": [
    {
     "data": {
      "text/plain": [
       "array([ 1., -1.,  2.])"
      ]
     },
     "execution_count": 2,
     "metadata": {},
     "output_type": "execute_result"
    }
   ],
   "source": [
    "find_sol_inverse(np.array([[1, 1, -1], [2, -1, 1], [-1, 2, 2]]), np.array([-2, 5, 1]))"
   ]
  },
  {
   "cell_type": "markdown",
   "metadata": {},
   "source": [
    "## Gauss Elimination Method"
   ]
  },
  {
   "cell_type": "code",
   "execution_count": 3,
   "metadata": {},
   "outputs": [],
   "source": [
    "# Importing NumPy Library\n",
    "import numpy as np\n",
    "import sys\n",
    "\n",
    "def gauss_method(a):\n",
    "    print(a)\n",
    "    n = 3\n",
    "\n",
    "    # Making numpy array of n size and initializing \n",
    "    # to zero for storing solution vector\n",
    "    x = np.zeros(n)\n",
    "\n",
    "    # Applying Gauss Elimination\n",
    "    for i in range(n):\n",
    "        if a[i][i] == 0.0:\n",
    "            sys.exit('Divide by zero detected!')\n",
    "            \n",
    "        for j in range(i+1, n):\n",
    "            ratio = a[j][i]/a[i][i]\n",
    "            \n",
    "            for k in range(n+1):\n",
    "                a[j][k] = a[j][k] - ratio * a[i][k]\n",
    "\n",
    "    # Back Substitution\n",
    "    x[n-1] = a[n-1][n]/a[n-1][n-1]\n",
    "\n",
    "    for i in range(n-2,-1,-1):\n",
    "        x[i] = a[i][n]\n",
    "        \n",
    "        for j in range(i+1,n):\n",
    "            x[i] = x[i] - a[i][j]*x[j]\n",
    "        \n",
    "        x[i] = x[i]/a[i][i]\n",
    "\n",
    "    # Displaying solution\n",
    "    print('\\nRequired solution is: ')\n",
    "    for i in range(n):\n",
    "        print('X%d = %0.2f' %(i,x[i]), end = '\\t')"
   ]
  },
  {
   "cell_type": "code",
   "execution_count": 4,
   "metadata": {},
   "outputs": [
    {
     "name": "stdout",
     "output_type": "stream",
     "text": [
      "[[ 1.  1. -1. -2.]\n",
      " [ 2. -1.  1.  5.]\n",
      " [-1.  2.  2.  1.]]\n",
      "\n",
      "Required solution is: \n",
      "X0 = 1.00\tX1 = -1.00\tX2 = 2.00\t"
     ]
    }
   ],
   "source": [
    "a = np.array([[1., 1., -1., -2.], [2., -1., 1., 5.], [-1., 2., 2., 1.]])\n",
    "gauss_method(a)"
   ]
  },
  {
   "cell_type": "markdown",
   "metadata": {},
   "source": [
    "## LU Decomposition Method"
   ]
  },
  {
   "cell_type": "code",
   "execution_count": 5,
   "metadata": {},
   "outputs": [],
   "source": [
    "import numpy as np\n",
    "from scipy.linalg import lu\n",
    "\n",
    "def lud(A):\n",
    "    L, U = lu(A, True)\n",
    "\n",
    "    print(\"L: \\n\", L)\n",
    "    print(\"U: \\n\", U)\n",
    "\n",
    "    # Multiply L and U\n",
    "    LU = np.dot(L, U)\n",
    "\n",
    "    print(\"LU: \\n\", LU)\n",
    "    print(\"A: \\n\", A)\n",
    "\n",
    "    # Check if A and LU are equal within a tolerance\n",
    "    if np.allclose(A, LU):\n",
    "        print(\"LU decomposition is valid\")\n",
    "    else:\n",
    "        print(\"LU decomposition is not valid\")"
   ]
  },
  {
   "cell_type": "code",
   "execution_count": 6,
   "metadata": {},
   "outputs": [
    {
     "name": "stdout",
     "output_type": "stream",
     "text": [
      "L: \n",
      " [[ 0.5  1.   0. ]\n",
      " [ 1.   0.   0. ]\n",
      " [-0.5  1.   1. ]]\n",
      "U: \n",
      " [[ 2.  -1.   1. ]\n",
      " [ 0.   1.5 -1.5]\n",
      " [ 0.   0.   4. ]]\n",
      "LU: \n",
      " [[ 1.  1. -1.]\n",
      " [ 2. -1.  1.]\n",
      " [-1.  2.  2.]]\n",
      "A: \n",
      " [[ 1  1 -1]\n",
      " [ 2 -1  1]\n",
      " [-1  2  2]]\n",
      "LU decomposition is valid\n"
     ]
    }
   ],
   "source": [
    "A = np.array([[1, 1, -1], [2, -1, 1], [-1, 2, 2]])\n",
    "\n",
    "lud(A)"
   ]
  }
 ],
 "metadata": {
  "kernelspec": {
   "display_name": "Python 3",
   "language": "python",
   "name": "python3"
  },
  "language_info": {
   "codemirror_mode": {
    "name": "ipython",
    "version": 3
   },
   "file_extension": ".py",
   "mimetype": "text/x-python",
   "name": "python",
   "nbconvert_exporter": "python",
   "pygments_lexer": "ipython3",
   "version": "3.12.3"
  }
 },
 "nbformat": 4,
 "nbformat_minor": 2
}
