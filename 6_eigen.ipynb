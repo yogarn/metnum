{
 "cells": [
  {
   "cell_type": "markdown",
   "metadata": {},
   "source": [
    "# Eigen Value & Eigen Vector"
   ]
  },
  {
   "cell_type": "code",
   "execution_count": 2,
   "metadata": {},
   "outputs": [],
   "source": [
    "import numpy as np"
   ]
  },
  {
   "cell_type": "code",
   "execution_count": 25,
   "metadata": {},
   "outputs": [],
   "source": [
    "import numpy as np\n",
    "\n",
    "def power_method(A, initial_vector, num_iterations=500, tolerance=1e-10):\n",
    "    b_k = initial_vector\n",
    "\n",
    "    for i in range(num_iterations):\n",
    "        print(f\"--- Iterasi {i + 1} ---\")\n",
    "        print(\"Vektor Awal:\", b_k)\n",
    "\n",
    "        # Calculate the matrix-by-vector product\n",
    "        b_k1 = np.dot(A, b_k)\n",
    "        print(\"Matriks * Vektor:\", b_k1)\n",
    "\n",
    "        # Calculate the eigenvalue\n",
    "        eigenvalue = np.linalg.norm(b_k1)\n",
    "        print(\"Nilai Eigen yang Dihitung:\", eigenvalue)\n",
    "\n",
    "        # Normalize the vector\n",
    "        b_k = b_k1 / eigenvalue\n",
    "        print(\"Vektor Ternormalisasi:\", b_k)\n",
    "\n",
    "        # Check for convergence\n",
    "        if np.linalg.norm(b_k1 - eigenvalue * b_k) < tolerance:\n",
    "            print(\"Konvergensi tercapai.\")\n",
    "            break\n",
    "\n",
    "        print()\n",
    "\n",
    "    return eigenvalue, b_k\n"
   ]
  },
  {
   "cell_type": "code",
   "execution_count": 26,
   "metadata": {},
   "outputs": [
    {
     "name": "stdout",
     "output_type": "stream",
     "text": [
      "--- Iterasi 1 ---\n",
      "Vektor Awal: [1 1 1]\n",
      "Matriks * Vektor: [8 7 1]\n",
      "Nilai Eigen yang Dihitung: 10.677078252031311\n",
      "Vektor Ternormalisasi: [0.74926865 0.65561007 0.09365858]\n",
      "Konvergensi tercapai.\n",
      "Eigenvalue: 10.677078252031311\n",
      "Eigenvector: [0.74926865 0.65561007 0.09365858]\n"
     ]
    }
   ],
   "source": [
    "A = np.array([[5, 2, 1],\n",
    "              [2, 4, 1],\n",
    "              [-1, -1, 3]])\n",
    "x = np.array([1, 1, 1])\n",
    "\n",
    "eigenvalue, eigenvector = power_method(A, x)\n",
    "print(f\"Eigenvalue: {eigenvalue}\")\n",
    "print(f\"Eigenvector: {eigenvector}\")"
   ]
  }
 ],
 "metadata": {
  "kernelspec": {
   "display_name": "Python 3",
   "language": "python",
   "name": "python3"
  },
  "language_info": {
   "codemirror_mode": {
    "name": "ipython",
    "version": 3
   },
   "file_extension": ".py",
   "mimetype": "text/x-python",
   "name": "python",
   "nbconvert_exporter": "python",
   "pygments_lexer": "ipython3",
   "version": "3.12.3"
  }
 },
 "nbformat": 4,
 "nbformat_minor": 2
}
