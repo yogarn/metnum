{
 "cells": [
  {
   "cell_type": "markdown",
   "metadata": {},
   "source": [
    "# Regresi"
   ]
  },
  {
   "cell_type": "markdown",
   "metadata": {},
   "source": [
    "## Regresi Linear"
   ]
  },
  {
   "cell_type": "code",
   "execution_count": 17,
   "metadata": {},
   "outputs": [],
   "source": [
    "def linear_regression(x, y):\n",
    "    # Calculate the regression line\n",
    "    n = len(x)\n",
    "    x_sum = sum(x)\n",
    "    y_sum = sum(y)\n",
    "    xy_sum = sum([x[i] * y[i] for i in range(n)])\n",
    "    x2_sum = sum([x[i] ** 2 for i in range(n)])\n",
    "    a = (n * xy_sum - x_sum * y_sum) / (n * x2_sum - x_sum ** 2)\n",
    "    b = (x2_sum * y_sum - x_sum * xy_sum) / (n * x2_sum - x_sum ** 2)\n",
    "    \n",
    "    # Calculate the regression error\n",
    "    residuals = [y[i] - (a * x[i] + b) for i in range(n)]\n",
    "    sr = sum([residual ** 2 for residual in residuals])\n",
    "    sy_x = (sr / (n - 2)) ** 0.5\n",
    "    \n",
    "    return a, b, sr, sy_x"
   ]
  },
  {
   "cell_type": "code",
   "execution_count": 18,
   "metadata": {},
   "outputs": [
    {
     "name": "stdout",
     "output_type": "stream",
     "text": [
      "y = 0.8392857142857143x + 0.07142857142857142\n",
      "sr = 2.991071428571428\n",
      "s(y/x) = 0.7734431367038469\n"
     ]
    }
   ],
   "source": [
    "a, b, sr, sy_x = linear_regression([1, 2, 3, 4, 5, 6, 7], [0.5, 2.5, 2.0, 4.0, 3.5, 6.0, 5.5])\n",
    "print(f\"y = {a}x + {b}\")\n",
    "print(f\"sr = {e}\")\n",
    "print(f\"s(y/x) = {sy_x}\")"
   ]
  }
 ],
 "metadata": {
  "kernelspec": {
   "display_name": "Python 3",
   "language": "python",
   "name": "python3"
  },
  "language_info": {
   "codemirror_mode": {
    "name": "ipython",
    "version": 3
   },
   "file_extension": ".py",
   "mimetype": "text/x-python",
   "name": "python",
   "nbconvert_exporter": "python",
   "pygments_lexer": "ipython3",
   "version": "3.12.3"
  }
 },
 "nbformat": 4,
 "nbformat_minor": 2
}
