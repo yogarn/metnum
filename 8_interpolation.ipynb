{
 "cells": [
  {
   "cell_type": "markdown",
   "metadata": {},
   "source": [
    "# Interpolasi"
   ]
  },
  {
   "cell_type": "code",
   "execution_count": 3,
   "metadata": {},
   "outputs": [],
   "source": [
    "import numpy as np\n",
    "\n",
    "t = np.array([0, 10, 15, 20, 22.5, 30])\n",
    "v_t = np.array([0, 227.04, 362.78, 517.35, 602.91, 901.67])"
   ]
  },
  {
   "cell_type": "markdown",
   "metadata": {},
   "source": [
    "## Linear Interpolation"
   ]
  },
  {
   "cell_type": "markdown",
   "metadata": {},
   "source": [
    "\\begin{align*}\n",
    "f(x) &= a_0x^0 + a_1x^1\\\\\n",
    "&= a_0 + a_1x\n",
    "\\end{align*}"
   ]
  },
  {
   "cell_type": "markdown",
   "metadata": {},
   "source": [
    "Pertama, kita perlu membuat persamaan di atas dari kedua titik yang kita tentukan. Selanjutnya, kita bisa cari solusi untuk a0 dan a1. Setelah itu, kita tinggal substitusi a0 dan a1 ke persamaan tersebut dan substitusi nilai x yang ingin di cari."
   ]
  },
  {
   "cell_type": "code",
   "execution_count": 4,
   "metadata": {},
   "outputs": [],
   "source": [
    "def linear_interpolation(x: float, x0: float, x1: float, y0: float, y1: float) -> float:\n",
    "    \"\"\"\n",
    "    Perform linear interpolation to estimate the value of y at a given x, based on two known points (x0, y0) and (x1, y1).\n",
    "    \n",
    "    Parameters:\n",
    "    x (float): The x-coordinate at which to estimate the value of y.\n",
    "    x0 (float): The x-coordinate of the first known point.\n",
    "    x1 (float): The x-coordinate of the second known point.\n",
    "    y0 (float): The y-coordinate of the first known point.\n",
    "    y1 (float): The y-coordinate of the second known point.\n",
    "    \n",
    "    Returns:\n",
    "    float: The estimated value of y at the given x-coordinate.\n",
    "    \"\"\"\n",
    "    return y0 + (y1 - y0) * (x - x0) / (x1 - x0)"
   ]
  },
  {
   "cell_type": "code",
   "execution_count": 6,
   "metadata": {},
   "outputs": [
    {
     "data": {
      "text/plain": [
       "393.69399999999996"
      ]
     },
     "execution_count": 6,
     "metadata": {},
     "output_type": "execute_result"
    }
   ],
   "source": [
    "linear_interpolation(16, t[2], t[3], v_t[2], v_t[3])"
   ]
  },
  {
   "cell_type": "markdown",
   "metadata": {},
   "source": [
    "## Direct Quadratic Interpolation"
   ]
  },
  {
   "cell_type": "markdown",
   "metadata": {},
   "source": [
    "\\begin{align*}\n",
    "f(x) &= a_0x^0 + a_1x^1 + a_2x^2\\\\\n",
    "&= a_0 + a_1x+a_2x^2\n",
    "\\end{align*}"
   ]
  },
  {
   "cell_type": "markdown",
   "metadata": {},
   "source": [
    "Pertama, kita perlu membuat persamaan di atas dari ketiga titik yang kita tentukan. Selanjutnya, kita bisa cari solusi untuk a0, a1, dan a2. Setelah itu, kita tinggal substitusi a0, a1, dan a2 ke persamaan tersebut dan substitusi nilai x yang ingin di cari."
   ]
  },
  {
   "cell_type": "code",
   "execution_count": 9,
   "metadata": {},
   "outputs": [],
   "source": [
    "def direct_quadratic_interpolation(x: float, x0: float, x1: float, x2: float, y0: float, y1: float, y2: float) -> float:\n",
    "    \"\"\"\n",
    "    Perform direct quadratic interpolation to estimate the value of y at a given x,\n",
    "    based on three known points (x0, y0), (x1, y1), and (x2, y2).\n",
    "    \n",
    "    Parameters:\n",
    "    x (float): The x-coordinate at which to estimate the value of y.\n",
    "    x0 (float): The x-coordinate of the first known point.\n",
    "    x1 (float): The x-coordinate of the second known point.\n",
    "    x2 (float): The x-coordinate of the third known point.\n",
    "    y0 (float): The y-coordinate of the first known point.\n",
    "    y1 (float): The y-coordinate of the second known point.\n",
    "    y2 (float): The y-coordinate of the third known point.\n",
    "    \n",
    "    Returns:\n",
    "    float: The estimated value of y at the given x-coordinate.\n",
    "    \"\"\"\n",
    "    return (y0 * (x - x1) * (x - x2) / ((x0 - x1) * (x0 - x2)) +\n",
    "            y1 * (x - x0) * (x - x2) / ((x1 - x0) * (x1 - x2)) +\n",
    "            y2 * (x - x0) * (x - x1) / ((x2 - x0) * (x2 - x1)))"
   ]
  },
  {
   "cell_type": "code",
   "execution_count": 10,
   "metadata": {},
   "outputs": [
    {
     "data": {
      "text/plain": [
       "392.1876"
      ]
     },
     "execution_count": 10,
     "metadata": {},
     "output_type": "execute_result"
    }
   ],
   "source": [
    "direct_quadratic_interpolation(16, t[1], t[2], t[3], v_t[1], v_t[2], v_t[3])"
   ]
  },
  {
   "cell_type": "markdown",
   "metadata": {},
   "source": [
    "## Direct Cubic Interpolation"
   ]
  },
  {
   "cell_type": "markdown",
   "metadata": {},
   "source": [
    "\\begin{align*}\n",
    "f(x) &= a_0x^0 + a_1x^1 + a_2x^2 + a_3x^3\\\\\n",
    "&= a_0 + a_1x+a_2x^2+a_3x^3\n",
    "\\end{align*}"
   ]
  },
  {
   "cell_type": "markdown",
   "metadata": {},
   "source": [
    "Pertama, kita perlu membuat persamaan di atas dari keempat titik yang kita tentukan. Selanjutnya, kita bisa cari solusi untuk a0, a1, a2, dan a3. Setelah itu, kita tinggal substitusi a0, a1, a2, dan a3 ke persamaan tersebut dan substitusi nilai x yang ingin di cari."
   ]
  },
  {
   "cell_type": "code",
   "execution_count": 15,
   "metadata": {},
   "outputs": [],
   "source": [
    "def direct_cubic_interpolation(x: float, x0: float, x1: float, x2: float, x3: float, y0: float, y1: float, y2: float, y3: float) -> float:\n",
    "    \"\"\"\n",
    "    Perform direct cubic interpolation to estimate the value of y at a given x,\n",
    "    based on four known points (x0, y0), (x1, y1), (x2, y2), and (x3, y3).\n",
    "    \n",
    "    Parameters:\n",
    "    x (float): The x-coordinate at which to estimate the value of y.\n",
    "    x0 (float): The x-coordinate of the first known point.\n",
    "    x1 (float): The x-coordinate of the second known point.\n",
    "    x2 (float): The x-coordinate of the third known point.\n",
    "    x3 (float): The x-coordinate of the fourth known point.\n",
    "    y0 (float): The y-coordinate of the first known point.\n",
    "    y1 (float): The y-coordinate of the second known point.\n",
    "    y2 (float): The y-coordinate of the third known point.\n",
    "    y3 (float): The y-coordinate of the fourth known point.\n",
    "    \n",
    "    Returns:\n",
    "    float: The estimated value of y at the given x-coordinate.\n",
    "    \"\"\"\n",
    "    return (y0 * (x - x1) * (x - x2) * (x - x3) / ((x0 - x1) * (x0 - x2) * (x0 - x3)) +\n",
    "            y1 * (x - x0) * (x - x2) * (x - x3) / ((x1 - x0) * (x1 - x2) * (x1 - x3)) +\n",
    "            y2 * (x - x0) * (x - x1) * (x - x3) / ((x2 - x0) * (x2 - x1) * (x2 - x3)) +\n",
    "            y3 * (x - x0) * (x - x1) * (x - x2) / ((x3 - x0) * (x3 - x1) * (x3 - x2)))"
   ]
  },
  {
   "cell_type": "code",
   "execution_count": 16,
   "metadata": {},
   "outputs": [
    {
     "data": {
      "text/plain": [
       "392.063312"
      ]
     },
     "execution_count": 16,
     "metadata": {},
     "output_type": "execute_result"
    }
   ],
   "source": [
    "direct_cubic_interpolation(16, t[1], t[2], t[3], t[4], v_t[1], v_t[2], v_t[3], v_t[4])"
   ]
  }
 ],
 "metadata": {
  "kernelspec": {
   "display_name": "Python 3",
   "language": "python",
   "name": "python3"
  },
  "language_info": {
   "codemirror_mode": {
    "name": "ipython",
    "version": 3
   },
   "file_extension": ".py",
   "mimetype": "text/x-python",
   "name": "python",
   "nbconvert_exporter": "python",
   "pygments_lexer": "ipython3",
   "version": "3.12.3"
  }
 },
 "nbformat": 4,
 "nbformat_minor": 2
}
