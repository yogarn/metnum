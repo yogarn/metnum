{
 "cells": [
  {
   "cell_type": "markdown",
   "metadata": {},
   "source": [
    "# LK 2 Metode Numerik C\n",
    "Nama: Yoga Raditya Nala  \n",
    "NIM: 235150201111020"
   ]
  },
  {
   "cell_type": "markdown",
   "metadata": {},
   "source": [
    "## Buatlah program untuk menjalankan metode False Position, Newton-Raphson, dan Secant"
   ]
  },
  {
   "cell_type": "code",
   "execution_count": 1,
   "metadata": {},
   "outputs": [],
   "source": [
    "import math"
   ]
  },
  {
   "cell_type": "markdown",
   "metadata": {},
   "source": [
    "### Metode Bisection"
   ]
  },
  {
   "cell_type": "code",
   "execution_count": 2,
   "metadata": {},
   "outputs": [],
   "source": [
    "def bisect(fx, a, b, e=1e-4, max_iter=1000):\n",
    "    print(f\"a = {a}\")\n",
    "    print(f\"b = {b}\")\n",
    "\n",
    "    c = (a + b)/2\n",
    "    i = 0\n",
    "\n",
    "    print(\"a\", \"\\t\", \"b\", \"\\t\", \"fx(a)\", \"\\t\", \"fx(b)\", \"\\t\", \"c\", \"\\t\", \"fx(c)\")\n",
    "    if (fx(a) * fx(b) < 0):\n",
    "        while (i < max_iter and abs(fx(c)) > e):\n",
    "            c = (a + b)/2\n",
    "            i += 1\n",
    "            print(round(a,2), \"\\t\", round(b,2), \"\\t\", round(fx(a),2), \"\\t\", round(fx(b),2), \"\\t\", round(c,2), \"\\t\", round(fx(c),2))\n",
    "            if(fx(c) == 0):\n",
    "                break\n",
    "            if(fx(a) * fx(c) < 0):\n",
    "                b = c\n",
    "            elif(fx(a) * fx(c) > 0):\n",
    "                a = c\n",
    "        print(f\"nilai akar persamaan adalah {c}\")\n",
    "        print(f\"i = {i}\")\n",
    "    else:\n",
    "        print(\"a dan b tidak memenuhi syarat\")"
   ]
  },
  {
   "cell_type": "code",
   "execution_count": 3,
   "metadata": {},
   "outputs": [
    {
     "name": "stdout",
     "output_type": "stream",
     "text": [
      "a = -1\n",
      "b = 1\n",
      "a \t b \t fx(a) \t fx(b) \t c \t fx(c)\n",
      "-1 \t 1 \t -13 \t 1 \t 0.0 \t -4.0\n",
      "0.0 \t 1 \t -4.0 \t 1 \t 0.5 \t -1.38\n",
      "0.5 \t 1 \t -1.38 \t 1 \t 0.75 \t -0.2\n",
      "0.75 \t 1 \t -0.2 \t 1 \t 0.88 \t 0.39\n",
      "0.75 \t 0.88 \t -0.2 \t 0.39 \t 0.81 \t 0.09\n",
      "0.75 \t 0.81 \t -0.2 \t 0.09 \t 0.78 \t -0.06\n",
      "0.78 \t 0.81 \t -0.06 \t 0.09 \t 0.8 \t 0.02\n",
      "0.78 \t 0.8 \t -0.06 \t 0.02 \t 0.79 \t -0.02\n",
      "0.79 \t 0.8 \t -0.02 \t 0.02 \t 0.79 \t -0.0\n",
      "0.79 \t 0.8 \t -0.0 \t 0.02 \t 0.79 \t 0.01\n",
      "0.79 \t 0.79 \t -0.0 \t 0.01 \t 0.79 \t 0.0\n",
      "0.79 \t 0.79 \t -0.0 \t 0.0 \t 0.79 \t 0.0\n",
      "0.79 \t 0.79 \t -0.0 \t 0.0 \t 0.79 \t -0.0\n",
      "nilai akar persamaan adalah 0.793212890625\n",
      "i = 13\n"
     ]
    }
   ],
   "source": [
    "bisect(lambda x: x**3 - 2*(x**2) + 6*x - 4, -1, 1, 1e-4)"
   ]
  },
  {
   "cell_type": "markdown",
   "metadata": {},
   "source": [
    "### Metode False Position (Regula Falsi)"
   ]
  },
  {
   "cell_type": "code",
   "execution_count": 4,
   "metadata": {},
   "outputs": [],
   "source": [
    "def regula_falsi(fx, a, b, e=1e-4, max_iter=1000):\n",
    "    print(f\"a = {a}\")\n",
    "    print(f\"b = {b}\")\n",
    "\n",
    "    c = (fx(b)*a - fx(a)*b) / (fx(b) - fx(a))\n",
    "    i = 0\n",
    "\n",
    "    print(\"a\", \"\\t\", \"b\", \"\\t\", \"fx(a)\", \"\\t\", \"fx(b)\", \"\\t\", \"c\", \"\\t\", \"fx(c)\")\n",
    "    if (fx(a) * fx(b) < 0):\n",
    "        while(i < max_iter and abs(fx(c)) > e):\n",
    "            c = (b - (fx(b)*(b-a))/(fx(b)-fx(a)))\n",
    "            i += 1\n",
    "            print(round(a,2), \"\\t\", round(b,2), \"\\t\", round(fx(a),2), \"\\t\", round(fx(b),2), \"\\t\", round(c,2), \"\\t\", round(fx(c),2))\n",
    "            if(fx(c) == 0):\n",
    "                break\n",
    "            if(fx(a) * fx(c) < 0):\n",
    "                b = c\n",
    "            elif(fx(a) * fx(c) > 0):\n",
    "                a = c\n",
    "        print(f\"nilai akar persamaan adalah {c}\")\n",
    "        print(f\"i = {i}\")\n",
    "    else:\n",
    "        print(\"a dan b tidak memenuhi syarat\")"
   ]
  },
  {
   "cell_type": "code",
   "execution_count": 5,
   "metadata": {},
   "outputs": [
    {
     "name": "stdout",
     "output_type": "stream",
     "text": [
      "a = -1\n",
      "b = 1\n",
      "a \t b \t fx(a) \t fx(b) \t c \t fx(c)\n",
      "-1 \t 1 \t -13 \t 1 \t 0.86 \t 0.3\n",
      "-1 \t 0.86 \t -13 \t 0.3 \t 0.81 \t 0.1\n",
      "-1 \t 0.81 \t -13 \t 0.1 \t 0.8 \t 0.04\n",
      "-1 \t 0.8 \t -13 \t 0.04 \t 0.8 \t 0.01\n",
      "-1 \t 0.8 \t -13 \t 0.01 \t 0.79 \t 0.0\n",
      "-1 \t 0.79 \t -13 \t 0.0 \t 0.79 \t 0.0\n",
      "-1 \t 0.79 \t -13 \t 0.0 \t 0.79 \t 0.0\n",
      "-1 \t 0.79 \t -13 \t 0.0 \t 0.79 \t 0.0\n",
      "-1 \t 0.79 \t -13 \t 0.0 \t 0.79 \t 0.0\n",
      "nilai akar persamaan adalah 0.7932300714161589\n",
      "i = 9\n"
     ]
    }
   ],
   "source": [
    "regula_falsi(lambda x: x**3 - 2*(x**2) + 6*x - 4, -1, 1, 1e-4)"
   ]
  },
  {
   "cell_type": "markdown",
   "metadata": {},
   "source": [
    "### Metode Newton-Raphson"
   ]
  },
  {
   "cell_type": "code",
   "execution_count": 6,
   "metadata": {},
   "outputs": [],
   "source": [
    "def newton_raphson(fx, fx_derivative, xr, e=1e-4, max_iter=1000):\n",
    "    i = 0\n",
    "    print(f\"x0 = {xr}\")\n",
    "    \n",
    "    print(\"i \\t xr \\t |xr+1 - xr|\")\n",
    "    print(i, \"\\t\" ,round(xr, 3), \"\\t\", \"-\")\n",
    "\n",
    "    xr_next = xr - (fx(xr) / fx_derivative(xr))\n",
    "    i += 1\n",
    "    print(i, \"\\t\", round(xr_next, 3), \"\\t\", round(abs(xr_next - xr), 4))\n",
    "    \n",
    "    while (i < max_iter and abs(xr_next - xr) > e):\n",
    "        xr = xr_next\n",
    "        xr_next = xr - (fx(xr) / fx_derivative(xr))\n",
    "        i += 1\n",
    "        print(i, \"\\t\", round(xr_next, 3), \"\\t\", round(abs(xr_next - xr), 4))\n",
    "    \n",
    "    print(f\"nilai akar persamaan adalah {xr_next}\")"
   ]
  },
  {
   "cell_type": "code",
   "execution_count": 7,
   "metadata": {},
   "outputs": [
    {
     "name": "stdout",
     "output_type": "stream",
     "text": [
      "x0 = 0.5\n",
      "i \t xr \t |xr+1 - xr|\n",
      "0 \t 0.5 \t -\n",
      "1 \t 0.619 \t 0.119\n",
      "2 \t 0.605 \t 0.0135\n",
      "3 \t 0.605 \t 0.0002\n",
      "4 \t 0.605 \t 0.0\n",
      "nilai akar persamaan adalah 0.6052671213146193\n"
     ]
    }
   ],
   "source": [
    "newton_raphson(lambda x: math.e**x - 5*x**2, lambda x: math.e**x - 10*x, 0.5, 1e-5)"
   ]
  },
  {
   "cell_type": "markdown",
   "metadata": {},
   "source": [
    "### Metode Secant"
   ]
  },
  {
   "cell_type": "code",
   "execution_count": 8,
   "metadata": {},
   "outputs": [],
   "source": [
    "def secant(fx, x_before, xr, e=1e-4, max_iter=1000):\n",
    "    i = 0\n",
    "    print(f\"x0 = {x_before}\")\n",
    "    print(f\"x1 = {xr}\")\n",
    "    \n",
    "    print(\"i \\t xr \\t |xr+1 - xr|\")\n",
    "    print(i, \"\\t\", round(xr, 3), \"\\t\", \"-\")\n",
    "\n",
    "    xr_next = xr - (fx(xr) * (xr - x_before)) / (fx(xr) - fx(x_before))\n",
    "    i += 1\n",
    "    print(i, \"\\t\", round(xr_next, 3), \"\\t\", round(abs(xr_next - xr), 4))\n",
    "    i = 1\n",
    "    \n",
    "    while (i < max_iter and abs(xr_next - xr) > e):\n",
    "        x_before = xr\n",
    "        xr = xr_next\n",
    "        xr_next = xr - (fx(xr) * (xr - x_before)) / (fx(xr) - fx(x_before))\n",
    "        i += 1\n",
    "        print(i, \"\\t\", round(xr_next, 3), \"\\t\", round(abs(xr_next - xr), 4))\n",
    "    \n",
    "    print(f\"nilai akar persamaan adalah {xr_next}\")"
   ]
  },
  {
   "cell_type": "code",
   "execution_count": 9,
   "metadata": {},
   "outputs": [
    {
     "name": "stdout",
     "output_type": "stream",
     "text": [
      "x0 = -0.5\n",
      "x1 = 0.5\n",
      "i \t xr \t |xr+1 - xr|\n",
      "0 \t 0.5 \t -\n",
      "1 \t 0.117 \t 0.3826\n",
      "2 \t 0.732 \t 0.6148\n",
      "3 \t 0.509 \t 0.223\n",
      "4 \t 0.594 \t 0.0846\n",
      "5 \t 0.606 \t 0.0126\n",
      "6 \t 0.605 \t 0.0012\n",
      "7 \t 0.605 \t 0.0\n",
      "8 \t 0.605 \t 0.0\n",
      "nilai akar persamaan adalah 0.6052671213148195\n"
     ]
    }
   ],
   "source": [
    "secant(lambda x: math.e**x - 5*x**2, -0.5, 0.5, 1e-5)"
   ]
  },
  {
   "cell_type": "markdown",
   "metadata": {},
   "source": [
    "## Hitung akar real dari persamaan $f(x) = x^3 – 5x + 1$ terletak pada interval $(0, 1)$. Lakukan empat iterasi dari metode secan."
   ]
  },
  {
   "cell_type": "markdown",
   "metadata": {},
   "source": [
    "Untuk bisa mencari akar real dari persamaan tersebut, kita bisa menentukan titik awal tebakan (initial guess) kita. Karena tebakan tersebut dibatasi oleh interval $0$ dan $1$, maka saya menggunakan $0.1$ sebagai $x_{k-1}$ dan $0.9$ sebagai $x_{k}$. Setelah itu, kita bisa lanjut ke tahap perhitungan menggunakan rumus berikut."
   ]
  },
  {
   "cell_type": "markdown",
   "metadata": {},
   "source": [
    "$$\n",
    "x_{k+1} = x_k - \\frac{f(x_k)(x_k - x_{k-1})}{f(x_k) - f(x_{k-1})}\n",
    "$$"
   ]
  },
  {
   "cell_type": "markdown",
   "metadata": {},
   "source": [
    "### Iterasi 1"
   ]
  },
  {
   "cell_type": "markdown",
   "metadata": {},
   "source": [
    "Pada iterasi pertama, kita bisa substitusikan $0.1$ dan $0.9$ ke persamaan awal, sehingga didapatkan masing-masing $f(x_k)$ dan $f(x_{k-1})$ sebagai berikut."
   ]
  },
  {
   "cell_type": "markdown",
   "metadata": {},
   "source": [
    "\\begin{align}\n",
    "f(x_k) &= x_k^3 – 5x_k + 1\\\\\n",
    "f(0.9) &= (0.9)^3 - 5(0.9) + 1\\\\\n",
    "&= 0.729 - 4.5 + 1\\\\\n",
    "&= -2.771\n",
    "\\end{align}"
   ]
  },
  {
   "cell_type": "markdown",
   "metadata": {},
   "source": [
    "\\begin{align}\n",
    "f(x_{k-1}) &= x_{k-1}^3 – 5x_{k-1} + 1\\\\\n",
    "f(0.1) &= (0.1)^3 - 5(0.1) + 1\\\\\n",
    "&= 0.001 - 0.5 + 1\\\\\n",
    "&= 0.501\n",
    "\\end{align}"
   ]
  },
  {
   "cell_type": "markdown",
   "metadata": {},
   "source": [
    "Setelah mendapatkan nilai untuk $f(x_{k-1})$ dan $f(x_k)$ , yaitu dan $0.501$ dan $-2.771$, kita bisa langsung substitusikan ke persamaan untuk mencari $x_{k+1}$"
   ]
  },
  {
   "cell_type": "markdown",
   "metadata": {},
   "source": [
    "\\begin{align}\n",
    "x_{k+1} &= x_k - \\frac{f(x_k)(x_k - x_{k-1})}{f(x_k) - f(x_{k-1})}\\\\\n",
    "&= 0.9 - \\frac{f(0.9)(0.9 - 0.1)}{f(0.9) - f(0.1)} \\\\\n",
    "&= 0.9 - \\frac{f(0.9)(0.9 - 0.1)}{f(0.9) - f(0.1)}\\\\\n",
    "&= 0.9 - \\frac{-2.771 \\cdot 0.8}{-2.771 - 0.501}\\\\\n",
    "&= 0.9 - \\frac{-2.2168}{-3.272}\\\\\n",
    "&= 0.9 - 0.677506112\\\\\n",
    "&= 0.222493888\n",
    "\\end{align}"
   ]
  },
  {
   "cell_type": "markdown",
   "metadata": {},
   "source": [
    "Setelah menemukan nilai $x_{k+1}$, kita bisa lanjut untuk iterasi berikutnya dengan nilai $x_{k-1} = x_k$ dan $x_k = x_{k+1}$"
   ]
  },
  {
   "cell_type": "markdown",
   "metadata": {},
   "source": [
    "### Iterasi 2"
   ]
  },
  {
   "cell_type": "markdown",
   "metadata": {},
   "source": [
    "Pada iterasi kedua, kita bisa substitusikan $0.9$ dan $0.222493888$ ke persamaan awal, sehingga didapatkan $f(x_k)$ sebagai berikut. Kita tidak perlu mencari $f(x_{k-1})$ yaitu $f(0.9)$ karena kita sudah tahu hasilnya dari iterasi pertama."
   ]
  },
  {
   "cell_type": "markdown",
   "metadata": {},
   "source": [
    "\\begin{align}\n",
    "f(x_k) &= x_k^3 – 5x_k + 1\\\\\n",
    "f(0.222493888) &= (0.222493888)^3 - 5(0.222493888) + 1\\\\\n",
    "&= 0.011014233 - 1.11246944 + 1\\\\\n",
    "&= −0.101455207\n",
    "\\end{align}"
   ]
  },
  {
   "cell_type": "markdown",
   "metadata": {},
   "source": [
    "Setelah mendapatkan nilai untuk $f(x_{k-1})$ dan $f(x_k)$, yaitu $-2.771$ dan $−0.101455207$, kita bisa langsung substitusikan ke persamaan untuk mencari $x_{k+1}$"
   ]
  },
  {
   "cell_type": "markdown",
   "metadata": {},
   "source": [
    "\\begin{align}\n",
    "x_{k+1} &= x_k - \\frac{f(x_k)(x_k - x_{k-1})}{f(x_k) - f(x_{k-1})}\\\\\n",
    "&= 0.222493888 - \\frac{f(0.222493888)(0.222493888 - 0.9)}{f(0.222493888) - f(0.9)} \\\\\n",
    "&= 0.222493888 - \\frac{−0.101455207 \\cdot −0.677506112}{−0.101455207 - (-2.771)}\\\\\n",
    "&= 0.222493888 - \\frac{0.068736523}{2.669544793}\\\\\n",
    "&= 0.222493888 - 0.025748406\\\\\n",
    "&= 0.196745482\n",
    "\\end{align}"
   ]
  },
  {
   "cell_type": "markdown",
   "metadata": {},
   "source": [
    "Setelah berhasil menemukan nilai dari $x_{k+1}$, kita bisa lanjut ke iterasi ketiga."
   ]
  },
  {
   "cell_type": "markdown",
   "metadata": {},
   "source": [
    "### Iterasi 3"
   ]
  },
  {
   "cell_type": "markdown",
   "metadata": {},
   "source": [
    "Pada iterasi ketiga, kita bisa substitusikan $0.222493888$ dan $0.196745482$ ke persamaan awal, sehingga didapatkan $f(x_k)$ sebagai berikut. Kita tidak perlu mencari $f(x_{k-1})$ yaitu $f(0.222493888)$ karena kita sudah tahu hasilnya dari iterasi kedua."
   ]
  },
  {
   "cell_type": "markdown",
   "metadata": {},
   "source": [
    "\\begin{align}\n",
    "f(x_k) &= x_k^3 – 5x_k + 1\\\\\n",
    "f(0.196745482) &= (0.196745482)^3 - 5(0.196745482) + 1\\\\\n",
    "                &= 0.007615779 -  0.98372741 + 1\\\\\n",
    "                &= 0.023888369\n",
    "\\end{align}"
   ]
  },
  {
   "cell_type": "markdown",
   "metadata": {},
   "source": [
    "Setelah mendapatkan nilai untuk $f(x_{k-1})$ dan $f(x_k)$, yaitu $−0.101455207$ dan $0.023888369$, kita bisa langsung substitusikan ke persamaan untuk mencari $x_{k+1}$"
   ]
  },
  {
   "cell_type": "markdown",
   "metadata": {},
   "source": [
    "\\begin{align}\n",
    "x_{k+1} &= x_k - \\frac{f(x_k)(x_k - x_{k-1})}{f(x_k) - f(x_{k-1})}\\\\\n",
    "&= 0.196745482 - \\frac{f(0.196745482)(0.196745482 - 0.222493888)}{f(0.196745482) - f(0.222493888)} \\\\\n",
    "&= 0.196745482 - \\frac{0.023888369 \\cdot −0.025748406}{0.023888369 - (−0.101455207) }\\\\\n",
    "&= 0.196745482 - \\frac{−0.000615087}{0.125343576}\\\\\n",
    "&= 0.196745482 - (−0.004907208)\\\\\n",
    "&= 0.20165269\n",
    "\\end{align}"
   ]
  },
  {
   "cell_type": "markdown",
   "metadata": {},
   "source": [
    "Setelah berhasil menemukan nilai dari $x_{k+1}$, kita bisa lanjut ke iterasi keempat."
   ]
  },
  {
   "cell_type": "markdown",
   "metadata": {},
   "source": [
    "### Iterasi 4"
   ]
  },
  {
   "cell_type": "markdown",
   "metadata": {},
   "source": [
    "Pada iterasi keempat, kita bisa substitusikan $0.196745482$ dan $0.20165269$ ke persamaan awal, sehingga didapatkan $f(x_k)$ sebagai berikut. Kita tidak perlu mencari $f(x_{k-1})$ yaitu $f(0.196745482)$ karena kita sudah tahu hasilnya dari iterasi ketiga."
   ]
  },
  {
   "cell_type": "markdown",
   "metadata": {},
   "source": [
    "\\begin{align}\n",
    "f(x_k) &= x_k^3 – 5x_k + 1\\\\\n",
    "f(0.20165269) &= (0.20165269)^3 - 5(0.20165269) + 1\\\\\n",
    "                &= 0.008199966 - 1.00826345 + 1\\\\\n",
    "                &= −0.000063484\n",
    "\\end{align}"
   ]
  },
  {
   "cell_type": "markdown",
   "metadata": {},
   "source": [
    "Setelah mendapatkan nilai untuk $f(x_{k-1})$ dan $f(x_k)$, yaitu $0.023888369$ dan $−0.000063484$, kita bisa langsung substitusikan ke persamaan untuk mencari $x_{k+1}$"
   ]
  },
  {
   "cell_type": "markdown",
   "metadata": {},
   "source": [
    "\\begin{align}\n",
    "x_{k+1} &= x_k - \\frac{f(x_k)(x_k - x_{k-1})}{f(x_k) - f(x_{k-1})}\\\\\n",
    "&= 0.20165269 - \\frac{f(0.20165269)(0.20165269 - 0.196745482)}{f(0.20165269) - f(0.196745482)} \\\\\n",
    "&= 0.20165269 - \\frac{ −0.000063484 \\cdot 0.004907208 }{−0.000063484 - 0.023888369 }\\\\\n",
    "&= 0.20165269 - \\frac{−0.000000312}{−0.023951853}\\\\\n",
    "&= 0.20165269 - 0.000013026\\\\\n",
    "&= 0.201639664\n",
    "\\end{align}"
   ]
  },
  {
   "cell_type": "markdown",
   "metadata": {},
   "source": [
    "Pada iterasi terakhir ini, dapat kita lihat perbedaannya sudah tidak terlalu signifikan dengan iterasi sebelumnya, dapat dibuktikan sebagai berikut."
   ]
  },
  {
   "cell_type": "markdown",
   "metadata": {},
   "source": [
    "\\begin{align}\n",
    "\\epsilon &= |x_{r+1} - x_r|\\\\\n",
    "&= |0.201639664 - 0.20165269|\\\\\n",
    "&= 0.000013026\n",
    "\\end{align}"
   ]
  },
  {
   "cell_type": "markdown",
   "metadata": {},
   "source": [
    "Apabila kita gunakan galat aproksimasi, maka akan kita dapatka persentase sebagai berikut."
   ]
  },
  {
   "cell_type": "markdown",
   "metadata": {},
   "source": [
    "\\begin{align}\n",
    "\\epsilon &= |\\frac{x_{r+1} - x_r}{x_{r+1}}|\\\\\n",
    "&= |\\frac{0.201639664 - 0.20165269}{0.201639664}|\\\\\n",
    "&= |\\frac{-0.000013026}{0.201639664}|\\\\\n",
    "&= 0.0000646\\%\n",
    "\\end{align}"
   ]
  },
  {
   "cell_type": "markdown",
   "metadata": {},
   "source": [
    "Apabila kita menggunakan toleransi $10^-4$ atau lebih besar, maka kita sudah bisa mendapatkan nilai akarnya. Dalam iterasi keempat ini, kita bisa menyimpulkan bahwa akar real dari persamaan $f(x) = x^3 – 5x + 1$ yang terletak pada interval $(0, 1)$ adalah $0.201639664$"
   ]
  },
  {
   "cell_type": "markdown",
   "metadata": {},
   "source": [
    "Berikut saya lampirkan tabel untuk mempermudah melihat nilai dari masing-masing iterasi.\n",
    "\n",
    "| Iterasi | $x_{k-1}$ | $x_k$   | $x_{k+1}$ | $\\|x_{k+1} - x_k\\|$ |\n",
    "| ------- | --------- | ------- | --------- | ------------------- |\n",
    "| 1       | 0.1       | 0.9     | 0.22249   | 0.67751             |\n",
    "| 2       | 0.9       | 0.22249 | 0.19674   | 0.02575             |\n",
    "| 3       | 0.22249   | 0.19674 | 0.20165   | 0.00844             |\n",
    "| 4       | 0.19674   | 0.20165 | 0.20163   | 0.00002             |\n"
   ]
  },
  {
   "cell_type": "markdown",
   "metadata": {},
   "source": [
    "### Pembuktian Menggunakan Python"
   ]
  },
  {
   "cell_type": "code",
   "execution_count": 10,
   "metadata": {},
   "outputs": [
    {
     "name": "stdout",
     "output_type": "stream",
     "text": [
      "x0 = 0.1\n",
      "x1 = 0.9\n",
      "i \t xr \t |xr+1 - xr|\n",
      "0 \t 0.9 \t -\n",
      "1 \t 0.222 \t 0.6775\n",
      "2 \t 0.197 \t 0.0257\n",
      "3 \t 0.202 \t 0.0049\n",
      "4 \t 0.202 \t 0.0\n",
      "nilai akar persamaan adalah 0.2016396835556329\n"
     ]
    }
   ],
   "source": [
    "secant(lambda x: x**3 - 5*x + 1, 0.1, 0.9, 1e-4)"
   ]
  },
  {
   "cell_type": "markdown",
   "metadata": {},
   "source": [
    "Apabila kita mencoba menggunakan method yang telah dibuat sebelumnya, bisa dilihat bahwa hasil nilai akar yang dihasilkan sama dengan hasil hitungan manual di atas (tidak berbeda secara signifikan)."
   ]
  }
 ],
 "metadata": {
  "kernelspec": {
   "display_name": "Python 3 (ipykernel)",
   "language": "python",
   "name": "python3"
  },
  "language_info": {
   "codemirror_mode": {
    "name": "ipython",
    "version": 3
   },
   "file_extension": ".py",
   "mimetype": "text/x-python",
   "name": "python",
   "nbconvert_exporter": "python",
   "pygments_lexer": "ipython3",
   "version": "3.12.3"
  }
 },
 "nbformat": 4,
 "nbformat_minor": 4
}
