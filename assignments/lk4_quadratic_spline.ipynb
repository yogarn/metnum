{
 "cells": [
  {
   "cell_type": "raw",
   "metadata": {},
   "source": [
    "%%latex\n",
    "\\setcounter{MaxMatrixCols}{15}\n",
    "\\setcounter{secnumdepth}{0}"
   ]
  },
  {
   "cell_type": "markdown",
   "metadata": {
    "heading_collapsed": true
   },
   "source": [
    "# Quadratic Spline Interpolation"
   ]
  },
  {
   "cell_type": "markdown",
   "metadata": {},
   "source": [
    "Hitunglah kecepatan  benda pada $t=16$ berdasarkan data yang tertera di dalam catatan perkuliahan: interpolation dengan menggunakan metode Quadratic spline interpolation."
   ]
  },
  {
   "cell_type": "markdown",
   "metadata": {},
   "source": [
    "Sebelum kita mengerjakan soal tersebut, kita bisa menyiapkan dependency dan data yang ingin kita kerjakan."
   ]
  },
  {
   "cell_type": "code",
   "execution_count": 1,
   "metadata": {
    "editable": true,
    "slideshow": {
     "slide_type": ""
    },
    "tags": []
   },
   "outputs": [],
   "source": [
    "import numpy as np\n",
    "import matplotlib.pyplot as plt\n",
    "import pandas as pd"
   ]
  },
  {
   "cell_type": "code",
   "execution_count": 2,
   "metadata": {},
   "outputs": [],
   "source": [
    "t = np.array([0, 10, 15, 20, 22.5, 30])\n",
    "v_t = np.array([0, 227.04, 362.78, 517.35, 602.91, 901.67])\n",
    "\n",
    "jumlah_spline = len(t) - 1\n",
    "jumlah_titik = jumlah_spline + 1\n",
    "total_variabel = jumlah_spline * 3\n"
   ]
  },
  {
   "cell_type": "markdown",
   "metadata": {},
   "source": [
    "## Substitusi Nilai ke Setiap Spline"
   ]
  },
  {
   "cell_type": "markdown",
   "metadata": {},
   "source": [
    "Pertama, kita bisa mencari sebanyak $2n$ persamaan dengan cara melakukan substitusi 2 titik ke setiap spline dengan rumus berikut."
   ]
  },
  {
   "cell_type": "markdown",
   "metadata": {},
   "source": [
    "\\begin{align*}\n",
    "Sn &: a_n x^2_{n-1} + b_n x_{n-1} + C_n = y_{n-1}\\\\\n",
    "&: a_n x^2_n + b_nx_n + C_n = y_n\n",
    "\\end{align*}"
   ]
  },
  {
   "cell_type": "markdown",
   "metadata": {},
   "source": [
    "Berdasarkan rumus tersebut, kita bisa substitusikan setiap titik-titik pada data untuk mendapatkan spline pertama hingga spline kelima, sehingga didapatkan persamaan sebagai berikut"
   ]
  },
  {
   "cell_type": "markdown",
   "metadata": {},
   "source": [
    "\\begin{align}\n",
    "S_1 &: 0a_1 + 0b_1 + 1c_1 = 0\\\\\n",
    "&: 100a_1 + 10b_1 + 1c_1 = 227,04\\\\\n",
    "S_2 &: 100a_2 + 10b_2 + 1c_2 = 227,04\\\\\n",
    "&: 225a_2 + 15b_2 + 1c_2 = 362,78\\\\\n",
    "S_3 &: 225a_3 + 15b_3 + 1c_3 = 362,78\\\\\n",
    "&: 400a_3 + 20b_3 + 1c_3 = 517.35\\\\\n",
    "S_4 &: 400a_4 + 20b_4 + 1c_4 = 517.35\\\\\n",
    "&: 506,25a_4 + 22,5b_4 + 1c_4 = 602,91\\\\\n",
    "S_5 &: 506,25a_5 + 22,5b_5 + 1c_5 = 602,91\\\\\n",
    "&: 900a_5 + 30b_5 + 1c_5 = 901.67\n",
    "\\end{align}"
   ]
  },
  {
   "cell_type": "markdown",
   "metadata": {},
   "source": [
    "Persamaan yang kita miliki saat ini hanya berjumlah $2n$, yaitu $10$ persamaan, sementara itu, kita memerlukan $15$ persamaan untuk mencari $15$ variabel."
   ]
  },
  {
   "cell_type": "markdown",
   "metadata": {},
   "source": [
    "## Turunan dari $S_i$ dan $S_{i+1}$ pada Titik $x_i, y_i$ adalah Sama"
   ]
  },
  {
   "cell_type": "markdown",
   "metadata": {},
   "source": [
    "Kita bisa mencari persamaan lainnya sehingga kita memiliki 15 persamaan dengan cara mencari turunan dari dua spline terhadap sebuah titik. Dari sini, kita bisa mendapatkan persamaan sebanyak $n-1$, yaitu $4$ persamaan, dengan rumus berikut ini."
   ]
  },
  {
   "cell_type": "markdown",
   "metadata": {},
   "source": [
    "\\begin{align*}\n",
    "S_{n-1} \\& S_n &: 2a_nX_{n-1} + b_n - 2a_nX_{n-1} - b_n = 0\n",
    "\\end{align*}"
   ]
  },
  {
   "cell_type": "markdown",
   "metadata": {},
   "source": [
    "Kita bisa langsung melakukan substitusi nilai $x$ pada persamaan tersebut, sehingga didapatkan hasil sebagai berikut ini."
   ]
  },
  {
   "cell_type": "markdown",
   "metadata": {},
   "source": [
    "\\begin{align}\n",
    "S_{1} \\& S_2 &: 20a_1 + 1b_1 - 20a_2 - 1b_2 = 0\\\\\n",
    "S_{2} \\& S_3 &: 30a_2 + 1b_2 - 30a_3 - 1b_3 = 0\\\\\n",
    "S_{3} \\& S_4 &: 40a_3 + 1b_3 - 40a_4 - 1b_4 = 0\\\\\n",
    "S_{4} \\& S_5 &: 45a_4 + 1b_4 - 45a_5 - 1b_5 = 0\\\\\n",
    "\\end{align}"
   ]
  },
  {
   "cell_type": "markdown",
   "metadata": {},
   "source": [
    "Dari persamaan tersebut, kita sudah memiliki sebanyak $14$ persamaan. Namun, persamaan yang kita butuhkan berjumlah $15$, sehingga kita perlu mencari $1$ persamaan lagi untuk bisa mencari nilai dari masing-masing variabel."
   ]
  },
  {
   "cell_type": "markdown",
   "metadata": {},
   "source": [
    "## Asumsi Turunan ke-2 Sama dengan 0"
   ]
  },
  {
   "cell_type": "markdown",
   "metadata": {},
   "source": [
    "\\begin{align*}\n",
    "\\frac{d^2}{dx}(a_1x^2 + b_1x + C_1) = 0\\\\\n",
    "2a_1 = 0\n",
    "\\end{align*}"
   ]
  },
  {
   "cell_type": "markdown",
   "metadata": {},
   "source": [
    "Untuk mencari persamaan terakhir, kita bisa membuat asumsi bahwa turunan kedua dari persamaan pertama sama dengan nol. Dengan demikian kita sudah memiliki $15$ persamaan dan bisa mencari nilai dari $15$ variabel yang tidak kita ketahui."
   ]
  },
  {
   "cell_type": "markdown",
   "metadata": {},
   "source": [
    "## Mencari Solusi dengan Matriks"
   ]
  },
  {
   "cell_type": "markdown",
   "metadata": {},
   "source": [
    "Setelah mendapatkan 15 persamaan, kita bisa membuat dalam bentuk matriks, sehingga kita bisa dengan mudah mencari solusinya dengan menggunakan inverse matriks yang akan dibantu oleh program python."
   ]
  },
  {
   "cell_type": "markdown",
   "metadata": {},
   "source": [
    "\\begin{align*}\n",
    "\\begin{bmatrix}\n",
    "0 & 0 & 1 & 0 & 0 & 0 & 0 & 0 & 0 & 0 & 0 & 0 & 0 & 0 & 0 \\\\\n",
    "100 & 10 & 1 & 0 & 0 & 0 & 0 & 0 & 0 & 0 & 0 & 0 & 0 & 0 & 0 \\\\\n",
    "0 & 0 & 0 & 100 & 10 & 1 & 0 & 0 & 0 & 0 & 0 & 0 & 0 & 0 & 0 \\\\\n",
    "0 & 0 & 0 & 225 & 15 & 1 & 0 & 0 & 0 & 0 & 0 & 0 & 0 & 0 & 0 \\\\\n",
    "0 & 0 & 0 & 0 & 0 & 0 & 225 & 15 & 1 & 0 & 0 & 0 & 0 & 0 & 0 \\\\\n",
    "0 & 0 & 0 & 0 & 0 & 0 & 400 & 20 & 1 & 0 & 0 & 0 & 0 & 0 & 0 \\\\\n",
    "0 & 0 & 0 & 0 & 0 & 0 & 0 & 0 & 0 & 400 & 20 & 1 & 0 & 0 & 0 \\\\\n",
    "0 & 0 & 0 & 0 & 0 & 0 & 0 & 0 & 0 & 506.25 & 22.5 & 1 & 0 & 0 & 0 \\\\\n",
    "0 & 0 & 0 & 0 & 0 & 0 & 0 & 0 & 0 & 0 & 0 & 506.25 & 22.5 & 1 & 0 \\\\\n",
    "0 & 0 & 0 & 0 & 0 & 0 & 0 & 0 & 0 & 0 & 0 & 900 & 30 & 1 & 0 \\\\\n",
    "20 & 1 & 0 & -20 & -1 & 0 & 0 & 0 & 0 & 0 & 0 & 0 & 0 & 0 & 0 \\\\\n",
    "0 & 0 & 0 & 30 & 1 & 0 & -30 & -1 & 0 & 0 & 0 & 0 & 0 & 0 & 0 \\\\\n",
    "0 & 0 & 0 & 0 & 0 & 0 & 40 & 1 & 0 & -40 & -1 & 0 & 0 & 0 & 0 \\\\\n",
    "0 & 0 & 0 & 0 & 0 & 0 & 0 & 0 & 0 & 45 & 1 & 0 & -45 & -1 & 0 \\\\\n",
    "2 & 0 & 0 & 0 & 0 & 0 & 0 & 0 & 0 & 0 & 0 & 0 & 0 & 0 & 0\n",
    "\\end{bmatrix}\n",
    "\\begin{bmatrix}\n",
    "a_1\\\\\n",
    "b_1\\\\\n",
    "c_1\\\\\n",
    "a_2\\\\\n",
    "b_2\\\\\n",
    "c_2\\\\\n",
    "a_3\\\\\n",
    "b_3\\\\\n",
    "c_3\\\\\n",
    "a_4\\\\\n",
    "b_4\\\\\n",
    "c_4\\\\\n",
    "a_5\\\\\n",
    "b_5\\\\\n",
    "c_5\n",
    "\\end{bmatrix} &=\n",
    "\\begin{bmatrix}\n",
    "0 \\\\\n",
    "227.04 \\\\\n",
    "227.04 \\\\\n",
    "362.78 \\\\\n",
    "362.78 \\\\\n",
    "517.35 \\\\\n",
    "517.35 \\\\\n",
    "602.91 \\\\\n",
    "602.91 \\\\\n",
    "901.67 \\\\\n",
    "0 \\\\\n",
    "0 \\\\\n",
    "0 \\\\\n",
    "0 \\\\\n",
    "0\n",
    "\\end{bmatrix}\n",
    "\\end{align*}"
   ]
  },
  {
   "cell_type": "markdown",
   "metadata": {
    "editable": true,
    "slideshow": {
     "slide_type": ""
    },
    "tags": []
   },
   "source": [
    "Matriks tersebut tentunya akan rumit untuk diselesaikan secara manual. Akan lebih baik apabila kita menyelesaikannya menggunakan metode inverse yang bisa dengan mudah diselesaikan di python"
   ]
  },
  {
   "cell_type": "code",
   "execution_count": 3,
   "metadata": {},
   "outputs": [],
   "source": [
    "A = np.array([\n",
    "    [0, 0, 1, 0, 0, 0, 0, 0, 0, 0, 0, 0, 0, 0, 0],\n",
    "    [100, 10, 1, 0, 0, 0, 0, 0, 0, 0, 0, 0, 0, 0, 0],\n",
    "    [0, 0, 0, 100, 10, 1, 0, 0, 0, 0, 0, 0, 0, 0, 0],\n",
    "    [0, 0, 0, 225, 15, 1, 0, 0, 0, 0, 0, 0, 0, 0, 0],\n",
    "    [0, 0, 0, 0, 0, 0, 225, 15, 1, 0, 0, 0, 0, 0, 0],\n",
    "    [0, 0, 0, 0, 0, 0, 400, 20, 1, 0, 0, 0, 0, 0, 0],\n",
    "    [0, 0, 0, 0, 0, 0, 0, 0, 0, 400, 20, 1, 0, 0, 0],\n",
    "    [0, 0, 0, 0, 0, 0, 0, 0, 0, 506.25, 22.5, 1, 0, 0, 0],\n",
    "    [0, 0, 0, 0, 0, 0, 0, 0, 0, 0, 0, 0, 506.25, 22.5, 1],\n",
    "    [0, 0, 0, 0, 0, 0, 0, 0, 0, 0, 0, 0, 900, 30, 1],\n",
    "    [20, 1, 0, -20, -1, 0, 0, 0, 0, 0, 0, 0, 0, 0, 0],\n",
    "    [0, 0, 0, 30, 1, 0, -30, -1, 0, 0, 0, 0, 0, 0, 0],\n",
    "    [0, 0, 0, 0, 0, 0, 40, 1, 0, -40, -1, 0, 0, 0, 0],\n",
    "    [0, 0, 0, 0, 0, 0, 0, 0, 0, 45, 1, 0, -45, -1, 0],\n",
    "    [2, 0, 0, 0, 0, 0, 0, 0, 0, 0, 0, 0, 0, 0, 0]\n",
    "])\n",
    "\n",
    "b = np.array([0, 227.04, 227.04, 362.78, 362.78, 517.35, 517.35, 602.91, 602.91, 901.67, 0, 0, 0, 0, 0])\n"
   ]
  },
  {
   "cell_type": "code",
   "execution_count": 4,
   "metadata": {},
   "outputs": [],
   "source": [
    "def matrix_inverse(A, b):\n",
    "    # Menghitung solusi dengan mengalikan invers matriks A dengan vektor b\n",
    "    A_inv = np.linalg.inv(A)\n",
    "    x = np.dot(A_inv, b)\n",
    "\n",
    "    # Membuat DataFrame untuk tampilan yang rapi\n",
    "    df_x = pd.DataFrame(x, columns=['Solution'])\n",
    "\n",
    "    # Menampilkan solusi\n",
    "    print(df_x)"
   ]
  },
  {
   "cell_type": "code",
   "execution_count": 5,
   "metadata": {},
   "outputs": [
    {
     "name": "stdout",
     "output_type": "stream",
     "text": [
      "        Solution\n",
      "0  -1.013484e-13\n",
      "1   2.270400e+01\n",
      "2   0.000000e+00\n",
      "3   8.888000e-01\n",
      "4   4.928000e+00\n",
      "5   8.888000e+01\n",
      "6  -1.356000e-01\n",
      "7   3.566000e+01\n",
      "8  -1.416100e+02\n",
      "9   1.595200e+00\n",
      "10 -3.357200e+01\n",
      "11  5.507100e+02\n",
      "12  2.163556e-01\n",
      "13  2.847600e+01\n",
      "14 -1.473300e+02\n"
     ]
    }
   ],
   "source": [
    "matrix_inverse(A, b)"
   ]
  },
  {
   "cell_type": "markdown",
   "metadata": {},
   "source": [
    "## Substitusi $t=16$"
   ]
  },
  {
   "cell_type": "markdown",
   "metadata": {},
   "source": [
    "Dari hasil penyelesaian matriks tersebut dengan menggunakan metode inverse, kita bisa mengetahui solusi atau nilai dari masing-masing variabel yang kita cari. Selanjutnya, kita bisa mencari $v(t)$ dengan $t = 16$ pada spline yang bersesuaian."
   ]
  },
  {
   "cell_type": "markdown",
   "metadata": {},
   "source": [
    "Karena $t = 16$ berada antara titik $15$ dan $20$, yang mana merupakan area dari spline ke-3, maka kita bisa menggunakan nilai $a_3$ $(-1.356000e-01)$, $b_3$ $(3.566000e+01)$, dan $c_3$ $(-1.416100e+02)$ untuk disubstitusikan pada persamaan kuadrat."
   ]
  },
  {
   "cell_type": "markdown",
   "metadata": {},
   "source": [
    "\\begin{align*}\n",
    "v(16) &= at^2 + bt + c\\\\\n",
    "&= -0.1356(16)^2 + 35.66(16) - 141.61\\\\\n",
    "&= 394.2363999999999\n",
    "\\end{align*}"
   ]
  },
  {
   "cell_type": "code",
   "execution_count": 6,
   "metadata": {},
   "outputs": [],
   "source": [
    "# Rumus dasar persamaan kuadrat\n",
    "def quadratic_spline(t, a, b, c):\n",
    "    return a * t**2 + b * t + c"
   ]
  },
  {
   "cell_type": "code",
   "execution_count": 7,
   "metadata": {},
   "outputs": [
    {
     "data": {
      "text/plain": [
       "394.2363999999999"
      ]
     },
     "execution_count": 7,
     "metadata": {},
     "output_type": "execute_result"
    }
   ],
   "source": [
    "quadratic_spline(16, -1.356000e-01, 3.566000e+01, -1.416100e+02)"
   ]
  },
  {
   "cell_type": "markdown",
   "metadata": {},
   "source": [
    "Bisa dilihat pada hasil operasi program python di atas, nilai $v(16)$ yang dicari menggunakan metode quadratic spline interpolation adalah $394.2363999999999$."
   ]
  },
  {
   "cell_type": "markdown",
   "metadata": {},
   "source": [
    "Disamping itu, kita juga bisa melakukan plotting grafik interpolasi berdasarkan nilai yang sudah kita miliki sebelumnya. Kode di bawah ini pada dasarnya akan melakukan substitusi nilai $a$, $b$, dan $c$ untuk masing-masing spline dengan batas x sesuai titik yang ada pada data."
   ]
  },
  {
   "cell_type": "code",
   "execution_count": 8,
   "metadata": {},
   "outputs": [
    {
     "data": {
      "image/png": "[encoded data removed]",
      "text/plain": [
       "<Figure size 1000x600 with 1 Axes>"
      ]
     },
     "metadata": {},
     "output_type": "display_data"
    }
   ],
   "source": [
    "# Solusi dari persamaan\n",
    "coefficients = np.array([\n",
    "    [-1.013430e-13, 2.270400e+01, 0.000000e+00],   # [a1, b1, c1]\n",
    "    [8.888000e-01, 4.928000e+00, 8.888000e+01],   # [a2, b2, c2]\n",
    "    [-1.356000e-01, 3.566000e+01, -1.416100e+02],  # [a3, b3, c3]\n",
    "    [1.604800e+00, -3.395600e+01, 5.545500e+02],  # [a4, b4, c4]\n",
    "    [2.088889e-01, 2.886000e+01, -1.521300e+02]  # [a5, b5, c5]\n",
    "])\n",
    "\n",
    "# Interval untuk setiap spline\n",
    "intervals = [\n",
    "    (0, 10), \n",
    "    (10, 15), \n",
    "    (15, 20), \n",
    "    (20, 22.5), \n",
    "    (22.5, 30)\n",
    "]\n",
    "\n",
    "# Membuat figure\n",
    "plt.figure(figsize=(10, 6))\n",
    "\n",
    "# Loop untuk setiap interval dan plot spline kuadrat\n",
    "for i, (a, b, c) in enumerate(coefficients):\n",
    "    t_interval = np.linspace(intervals[i][0], intervals[i][1])\n",
    "    v_interval = quadratic_spline(t_interval, a, b, c)\n",
    "    plt.plot(t_interval, v_interval, label=f'Spline {i+1}')\n",
    "\n",
    "# Plot data asli\n",
    "plt.scatter(t, v_t, color='red', label='Data Points')\n",
    "\n",
    "# Mengatur judul dan label sumbu\n",
    "plt.title('Quadratic Spline Interpolation')\n",
    "plt.xlabel('t')\n",
    "plt.ylabel('v(t)')\n",
    "plt.legend()\n",
    "plt.grid(True)\n",
    "plt.show()\n"
   ]
  }
 ],
 "metadata": {
  "MaxMatrixCols": 15,
  "authors": [
   {
    "name": "Yoga Raditya Nala (235150201111020)"
   }
  ],
  "kernelspec": {
   "display_name": "Python 3 (ipykernel)",
   "language": "python",
   "name": "python3"
  },
  "language_info": {
   "codemirror_mode": {
    "name": "ipython",
    "version": 3
   },
   "file_extension": ".py",
   "mimetype": "text/x-python",
   "name": "python",
   "nbconvert_exporter": "python",
   "pygments_lexer": "ipython3",
   "version": "3.12.3"
  },
  "title": "LK4 Metode Numerik - Quadratic Spline Interpolation"
 },
 "nbformat": 4,
 "nbformat_minor": 4
}
